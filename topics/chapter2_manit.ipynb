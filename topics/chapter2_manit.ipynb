{
 "cells": [
  {
   "cell_type": "markdown",
   "id": "05576ed3",
   "metadata": {},
   "source": [
    "# Chapter 2: Start with Jupyter\n",
    "1.  Create jupyter python project\n",
    "2.\tDevelop this as github project\n",
    "3.\tTry print and some basic python methods to develop notebook\n",
    "4.\tCommit and push to remote github account\n"
   ]
  },
  {
   "cell_type": "markdown",
   "id": "7df010db",
   "metadata": {},
   "source": [
    "-  Esc + b = create new cell below the current cell\n",
    "-  Esc + a = create new cell above the current cell\n",
    "-  Esc + d + d = delete current cell\n",
    "-  Esc + m = markdown mode\n"
   ]
  },
  {
   "cell_type": "code",
   "execution_count": null,
   "id": "53a572c7",
   "metadata": {},
   "outputs": [],
   "source": []
  }
 ],
 "metadata": {
  "kernelspec": {
   "display_name": "Python 3 (ipykernel)",
   "language": "python",
   "name": "python3"
  },
  "language_info": {
   "codemirror_mode": {
    "name": "ipython",
    "version": 3
   },
   "file_extension": ".py",
   "mimetype": "text/x-python",
   "name": "python",
   "nbconvert_exporter": "python",
   "pygments_lexer": "ipython3",
   "version": "3.9.13"
  }
 },
 "nbformat": 4,
 "nbformat_minor": 5
}
