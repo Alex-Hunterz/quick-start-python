{
 "cells": [
  {
   "cell_type": "markdown",
   "id": "a3851474",
   "metadata": {},
   "source": [
    "[Download Intellij](https://www.jetbrains.com/toolbox-app/)"
   ]
  },
  {
   "cell_type": "markdown",
   "id": "80f6dcab",
   "metadata": {},
   "source": [
    "[Install Intellij](https://www.jetbrains.com/help/idea/installation-guide.html)"
   ]
  },
  {
   "cell_type": "markdown",
   "id": "c8d209c8",
   "metadata": {},
   "source": [
    "[Run IntelliJ IDEA for the first time](https://www.jetbrains.com/help/idea/run-for-the-first-time.html)"
   ]
  },
  {
   "cell_type": "markdown",
   "id": "ebb82357",
   "metadata": {},
   "source": [
    "- Open an existing folder as intellij project\n",
    "- Check the folder file changing in the background, idea folder being added\n",
    "- Create one .py file with a few prints lines\n",
    "- Run the above file\n",
    "- Configure parameters and SDK for the above project\n",
    "- Run the project\n"
   ]
  },
  {
   "cell_type": "markdown",
   "id": "5a18832e",
   "metadata": {},
   "source": [
    "### Open existing project\n",
    "- open a python idea project folder in intellij"
   ]
  },
  {
   "cell_type": "code",
   "execution_count": null,
   "id": "e4d361db",
   "metadata": {},
   "outputs": [],
   "source": []
  },
  {
   "cell_type": "markdown",
   "id": "21d5adc2",
   "metadata": {},
   "source": [
    "### Homework\n",
    "- open folder material-python-web-application as an project with the help of intellij\n",
    "- configure SDK \n",
    "    - file\n",
    "    - project structure\n",
    "    - project\n",
    "    - SDK, set the value for this\n",
    "    - apply\n",
    "    - ok\n",
    "- run the webapp material-python-web-application\n",
    "- check the run console\n",
    "- click on the url\n",
    "- browser will open to get parameters value\n",
    "- fill the value and click on \n",
    "- convert to fahrenheit\n",
    "\n",
    "\n",
    "- read [webapp](https://realpython.com/python-web-applications/)"
   ]
  },
  {
   "cell_type": "code",
   "execution_count": null,
   "id": "5a885c0b",
   "metadata": {},
   "outputs": [],
   "source": [
    "- open a folder as an intellij project\n",
    "    - this will add .idea file\n",
    "    - different suporting files will be added\n",
    "- add configration for the project to run as python project\n",
    "    - SDK selection\n",
    "    - External library will be added"
   ]
  },
  {
   "cell_type": "code",
   "execution_count": null,
   "id": "89136499",
   "metadata": {},
   "outputs": [],
   "source": []
  }
 ],
 "metadata": {
  "kernelspec": {
   "display_name": "Python 3 (ipykernel)",
   "language": "python",
   "name": "python3"
  },
  "language_info": {
   "codemirror_mode": {
    "name": "ipython",
    "version": 3
   },
   "file_extension": ".py",
   "mimetype": "text/x-python",
   "name": "python",
   "nbconvert_exporter": "python",
   "pygments_lexer": "ipython3",
   "version": "3.9.7"
  }
 },
 "nbformat": 4,
 "nbformat_minor": 5
}
