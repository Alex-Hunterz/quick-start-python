{
 "cells": [
  {
   "cell_type": "markdown",
   "id": "9523e2fb",
   "metadata": {},
   "source": [
    "- value based or fundamental based trading\n",
    "    - undervalue\n",
    "        - buy\n",
    "    - overvalued\n",
    "        - sell\n",
    "    - For few year you hold the stock\n",
    "\n",
    "- Intraday or regular trading or positional trading\n",
    "    - technical indicator\n",
    "    - stock price\n",
    "    - volatility\n",
    "    - volume\n",
    "    - momentum \n",
    "- momentum\n",
    "    - velocity\n",
    "    - mass * velocity\n",
    "    - 1 * velocity\n",
    "    - s distance\n",
    "    - (s(today) - s(yesterday)) / time\n",
    "    - P price\n",
    "    - price(today) - price(yesterday)\n",
    "    \n",
    "- MACD\n",
    "    - (SMA - LMA)\n",
    "    - (p(t-1) + ..... + p(t-12))/12 - (p(t-1) + ..... + p(t-26))/26\n",
    "    - p(t-1) + ..... + p(t-26)\n",
    "    \n",
    "    \n",
    "    \n",
    "    \n",
    "\n"
   ]
  },
  {
   "cell_type": "code",
   "execution_count": null,
   "id": "55515742",
   "metadata": {},
   "outputs": [],
   "source": []
  }
 ],
 "metadata": {
  "kernelspec": {
   "display_name": "Python 3 (ipykernel)",
   "language": "python",
   "name": "python3"
  },
  "language_info": {
   "codemirror_mode": {
    "name": "ipython",
    "version": 3
   },
   "file_extension": ".py",
   "mimetype": "text/x-python",
   "name": "python",
   "nbconvert_exporter": "python",
   "pygments_lexer": "ipython3",
   "version": "3.9.7"
  }
 },
 "nbformat": 4,
 "nbformat_minor": 5
}
