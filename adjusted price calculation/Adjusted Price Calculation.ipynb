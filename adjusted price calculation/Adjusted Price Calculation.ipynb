{
 "cells": [
  {
   "cell_type": "markdown",
   "metadata": {},
   "source": [
    "# 1. Importing Basic Modules for data reading and manipulation"
   ]
  },
  {
   "cell_type": "code",
   "execution_count": 1,
   "metadata": {},
   "outputs": [],
   "source": [
    "import pandas as pd\n",
    "import numpy as np\n",
    "import matplotlib.pyplot as plt"
   ]
  },
  {
   "cell_type": "markdown",
   "metadata": {},
   "source": [
    "# 2. Using Yahoo Finance API\n",
    "[How to get stock data using yahoo finance](https://towardsdatascience.com/free-stock-data-for-python-using-yahoo-finance-api-9dafd96cad2e)"
   ]
  },
  {
   "cell_type": "markdown",
   "metadata": {},
   "source": [
    "## 2.1 Importing Yahoo Finance Package "
   ]
  },
  {
   "cell_type": "code",
   "execution_count": 2,
   "metadata": {},
   "outputs": [],
   "source": [
    "#import yfinance as yf"
   ]
  },
  {
   "cell_type": "markdown",
   "metadata": {},
   "source": [
    "## 2.2 Downloading historical data for a particular stock using its symbol"
   ]
  },
  {
   "cell_type": "code",
   "execution_count": 3,
   "metadata": {},
   "outputs": [],
   "source": [
    "#df_tst=yf.Ticker(\"INFY\")\n",
    "#raw_data=df_tst.history(start=\"2012-12-01\",end=\"2017-12-01\")\n",
    "#raw_data"
   ]
  },
  {
   "cell_type": "markdown",
   "metadata": {},
   "source": [
    "## 2.3 Reviewing if there has been any notable actions like stock split or dividends in the said            period "
   ]
  },
  {
   "cell_type": "code",
   "execution_count": 4,
   "metadata": {},
   "outputs": [],
   "source": [
    "#df_tst.actions"
   ]
  },
  {
   "cell_type": "markdown",
   "metadata": {},
   "source": [
    "## 2.4 Exporting the data in .csv format"
   ]
  },
  {
   "cell_type": "code",
   "execution_count": 5,
   "metadata": {},
   "outputs": [],
   "source": [
    "#raw_data.to_csv(\"test.csv\")"
   ]
  },
  {
   "cell_type": "markdown",
   "metadata": {},
   "source": [
    "# 3 Adjusted Closing Price\n",
    "[Reference](https://www.investopedia.com/terms/a/adjusted_closing_price.asp)"
   ]
  },
  {
   "cell_type": "markdown",
   "metadata": {},
   "source": [
    "As demanded in the session, the Apple Stock data has been used to demonstate the caculation of adjusted prices."
   ]
  },
  {
   "cell_type": "code",
   "execution_count": 6,
   "metadata": {},
   "outputs": [
    {
     "data": {
      "text/html": [
       "<div>\n",
       "<style scoped>\n",
       "    .dataframe tbody tr th:only-of-type {\n",
       "        vertical-align: middle;\n",
       "    }\n",
       "\n",
       "    .dataframe tbody tr th {\n",
       "        vertical-align: top;\n",
       "    }\n",
       "\n",
       "    .dataframe thead th {\n",
       "        text-align: right;\n",
       "    }\n",
       "</style>\n",
       "<table border=\"1\" class=\"dataframe\">\n",
       "  <thead>\n",
       "    <tr style=\"text-align: right;\">\n",
       "      <th></th>\n",
       "      <th>Date</th>\n",
       "      <th>Open</th>\n",
       "      <th>High</th>\n",
       "      <th>Low</th>\n",
       "      <th>Close</th>\n",
       "      <th>Volume</th>\n",
       "      <th>Ex-Dividend</th>\n",
       "      <th>Split Ratio</th>\n",
       "      <th>Adj. Open</th>\n",
       "      <th>Adj. High</th>\n",
       "      <th>Adj. Low</th>\n",
       "      <th>Adj. Close</th>\n",
       "      <th>Adj. Volume</th>\n",
       "    </tr>\n",
       "  </thead>\n",
       "  <tbody>\n",
       "    <tr>\n",
       "      <th>0</th>\n",
       "      <td>2007-12-03</td>\n",
       "      <td>181.86</td>\n",
       "      <td>184.14</td>\n",
       "      <td>177.70</td>\n",
       "      <td>178.8600</td>\n",
       "      <td>34338200.0</td>\n",
       "      <td>0.0</td>\n",
       "      <td>1.0</td>\n",
       "      <td>23.371545</td>\n",
       "      <td>23.664556</td>\n",
       "      <td>22.836927</td>\n",
       "      <td>22.986003</td>\n",
       "      <td>240367400.0</td>\n",
       "    </tr>\n",
       "    <tr>\n",
       "      <th>1</th>\n",
       "      <td>2007-12-04</td>\n",
       "      <td>177.15</td>\n",
       "      <td>180.90</td>\n",
       "      <td>176.99</td>\n",
       "      <td>179.8100</td>\n",
       "      <td>27635700.0</td>\n",
       "      <td>0.0</td>\n",
       "      <td>1.0</td>\n",
       "      <td>22.766244</td>\n",
       "      <td>23.248171</td>\n",
       "      <td>22.745682</td>\n",
       "      <td>23.108091</td>\n",
       "      <td>193449900.0</td>\n",
       "    </tr>\n",
       "    <tr>\n",
       "      <th>2</th>\n",
       "      <td>2007-12-05</td>\n",
       "      <td>182.89</td>\n",
       "      <td>186.00</td>\n",
       "      <td>182.41</td>\n",
       "      <td>185.5000</td>\n",
       "      <td>31871500.0</td>\n",
       "      <td>0.0</td>\n",
       "      <td>1.0</td>\n",
       "      <td>23.503914</td>\n",
       "      <td>23.903592</td>\n",
       "      <td>23.442227</td>\n",
       "      <td>23.839335</td>\n",
       "      <td>223100500.0</td>\n",
       "    </tr>\n",
       "    <tr>\n",
       "      <th>3</th>\n",
       "      <td>2007-12-06</td>\n",
       "      <td>186.19</td>\n",
       "      <td>190.10</td>\n",
       "      <td>186.12</td>\n",
       "      <td>189.9528</td>\n",
       "      <td>32136100.0</td>\n",
       "      <td>0.0</td>\n",
       "      <td>1.0</td>\n",
       "      <td>23.928010</td>\n",
       "      <td>24.430500</td>\n",
       "      <td>23.919014</td>\n",
       "      <td>24.411582</td>\n",
       "      <td>224952700.0</td>\n",
       "    </tr>\n",
       "    <tr>\n",
       "      <th>4</th>\n",
       "      <td>2007-12-07</td>\n",
       "      <td>190.54</td>\n",
       "      <td>194.99</td>\n",
       "      <td>188.04</td>\n",
       "      <td>194.3000</td>\n",
       "      <td>38073800.0</td>\n",
       "      <td>0.0</td>\n",
       "      <td>1.0</td>\n",
       "      <td>24.487046</td>\n",
       "      <td>25.058933</td>\n",
       "      <td>24.165761</td>\n",
       "      <td>24.970258</td>\n",
       "      <td>266516600.0</td>\n",
       "    </tr>\n",
       "  </tbody>\n",
       "</table>\n",
       "</div>"
      ],
      "text/plain": [
       "         Date    Open    High     Low     Close      Volume  Ex-Dividend  \\\n",
       "0  2007-12-03  181.86  184.14  177.70  178.8600  34338200.0          0.0   \n",
       "1  2007-12-04  177.15  180.90  176.99  179.8100  27635700.0          0.0   \n",
       "2  2007-12-05  182.89  186.00  182.41  185.5000  31871500.0          0.0   \n",
       "3  2007-12-06  186.19  190.10  186.12  189.9528  32136100.0          0.0   \n",
       "4  2007-12-07  190.54  194.99  188.04  194.3000  38073800.0          0.0   \n",
       "\n",
       "   Split Ratio  Adj. Open  Adj. High   Adj. Low  Adj. Close  Adj. Volume  \n",
       "0          1.0  23.371545  23.664556  22.836927   22.986003  240367400.0  \n",
       "1          1.0  22.766244  23.248171  22.745682   23.108091  193449900.0  \n",
       "2          1.0  23.503914  23.903592  23.442227   23.839335  223100500.0  \n",
       "3          1.0  23.928010  24.430500  23.919014   24.411582  224952700.0  \n",
       "4          1.0  24.487046  25.058933  24.165761   24.970258  266516600.0  "
      ]
     },
     "execution_count": 6,
     "metadata": {},
     "output_type": "execute_result"
    }
   ],
   "source": [
    "file_name=\"AAPL-Copy1.csv\" ## replace with file name of your data  \n",
    "df=pd.read_csv(file_name) ##yf.download(\"INFY\",start=\"2012-12-03\",end=\"2017-12-01\",actions=\"dividends\")\n",
    "df.head()"
   ]
  },
  {
   "cell_type": "code",
   "execution_count": 7,
   "metadata": {},
   "outputs": [
    {
     "data": {
      "text/plain": [
       "[<matplotlib.lines.Line2D at 0x2b10525ccd0>]"
      ]
     },
     "execution_count": 7,
     "metadata": {},
     "output_type": "execute_result"
    },
    {
     "data": {
      "image/png": "[encoded data removed]",
      "text/plain": [
       "<Figure size 432x288 with 1 Axes>"
      ]
     },
     "metadata": {
      "needs_background": "light"
     },
     "output_type": "display_data"
    }
   ],
   "source": [
    "plt.plot(df[\"Close\"])"
   ]
  },
  {
   "cell_type": "code",
   "execution_count": 8,
   "metadata": {},
   "outputs": [
    {
     "data": {
      "text/plain": [
       "(2517, 13)"
      ]
     },
     "execution_count": 8,
     "metadata": {},
     "output_type": "execute_result"
    }
   ],
   "source": [
    "df.shape"
   ]
  },
  {
   "cell_type": "code",
   "execution_count": 9,
   "metadata": {},
   "outputs": [
    {
     "data": {
      "text/plain": [
       "2517"
      ]
     },
     "execution_count": 9,
     "metadata": {},
     "output_type": "execute_result"
    }
   ],
   "source": [
    "h=df.shape[0]\n",
    "h"
   ]
  },
  {
   "cell_type": "code",
   "execution_count": 10,
   "metadata": {},
   "outputs": [],
   "source": [
    "da=[]\n",
    "sa=[]\n",
    "for i in range(h):\n",
    "    if df[\"Ex-Dividend\"].iloc[i]>0:\n",
    "        da.append(1)\n",
    "    else:\n",
    "        da.append(0)\n",
    "    if df[\"Split Ratio\"].iloc[i]>0:\n",
    "        sa.append(1)\n",
    "    else:\n",
    "        sa.append(0)      "
   ]
  },
  {
   "cell_type": "code",
   "execution_count": 11,
   "metadata": {},
   "outputs": [],
   "source": [
    "ao=[]\n",
    "ah=[]\n",
    "al=[]\n",
    "ac=[]\n",
    "\n",
    "for p in range(h):\n",
    "    ao.append(df[\"Open\"].iloc[p])\n",
    "    ah.append(df[\"High\"].iloc[p])\n",
    "    al.append(df[\"Low\"].iloc[p])\n",
    "    ac.append(df[\"Close\"].iloc[p])\n"
   ]
  },
  {
   "cell_type": "markdown",
   "metadata": {},
   "source": [
    "[Reference](https://help.yahoo.com/kb/SLN28256.html#:~:text=Adjusted%20close%20is%20the%20closing,Security%20Prices%20(CRSP)%20standards.)"
   ]
  },
  {
   "cell_type": "code",
   "execution_count": null,
   "metadata": {},
   "outputs": [],
   "source": [
    "for j in range(h):\n",
    "    k=0\n",
    "    l=0\n",
    "    if sa[j]==1:\n",
    "        if j>0:\n",
    "            for k in range(j):\n",
    "                ao[k]=ao[k]/df[\"Split Ratio\"].iloc[j]\n",
    "                ah[k]=ah[k]/df[\"Split Ratio\"].iloc[j]\n",
    "                al[k]=al[k]/df[\"Split Ratio\"].iloc[j]\n",
    "                ac[k]=ac[k]/df[\"Split Ratio\"].iloc[j]\n",
    "        else:\n",
    "            pass                 ## No need for adjust prices if only the starting date of the data taken has the actions.\n",
    "    if da[j]==1:\n",
    "        if j>0:\n",
    "            f1=1-(df[\"Ex-Dividend\"].iloc[j]/df[\"Close\"].iloc[j])\n",
    "            f2=1-(df[\"Ex-Dividend\"].iloc[j]/df[\"Open\"].iloc[j])\n",
    "            f3=1-(df[\"Ex-Dividend\"].iloc[j]/df[\"High\"].iloc[j])\n",
    "            f4=1-(df[\"Ex-Dividend\"].iloc[j]/df[\"Low\"].iloc[j])\n",
    "            for l in range(j):\n",
    "                ao[l]=ao[l]*f2\n",
    "                ah[l]=ah[l]*f3\n",
    "                al[l]=al[l]*f4\n",
    "                ac[l]=ac[l]*f1\n",
    "        else:\n",
    "            pass\n",
    "df[\"Calc. Adj. Open\"]=ao        \n",
    "df[\"Calc. Adj. High\"]=ah\n",
    "df[\"Calc. Adj.Low\"]=al\n",
    "df[\"Calc. Adj. Close\"]=ac\n",
    "\n",
    "#differences\n",
    "\n",
    "df[\"% Error\"]=abs(df[\"Calc. Adj. Close\"]-df[\"Adj. Close\"])*100/df[\"Adj. Close\"]"
   ]
  },
  {
   "cell_type": "code",
   "execution_count": null,
   "metadata": {},
   "outputs": [],
   "source": [
    "df.head()"
   ]
  },
  {
   "cell_type": "code",
   "execution_count": null,
   "metadata": {},
   "outputs": [],
   "source": [
    "df.to_csv(\"Calculated_Adjused_Prices.csv\")"
   ]
  },
  {
   "cell_type": "code",
   "execution_count": null,
   "metadata": {},
   "outputs": [],
   "source": []
  },
  {
   "cell_type": "code",
   "execution_count": null,
   "metadata": {},
   "outputs": [],
   "source": []
  }
 ],
 "metadata": {
  "kernelspec": {
   "display_name": "Python 3 (ipykernel)",
   "language": "python",
   "name": "python3"
  },
  "language_info": {
   "codemirror_mode": {
    "name": "ipython",
    "version": 3
   },
   "file_extension": ".py",
   "mimetype": "text/x-python",
   "name": "python",
   "nbconvert_exporter": "python",
   "pygments_lexer": "ipython3",
   "version": "3.9.7"
  }
 },
 "nbformat": 4,
 "nbformat_minor": 4
}
