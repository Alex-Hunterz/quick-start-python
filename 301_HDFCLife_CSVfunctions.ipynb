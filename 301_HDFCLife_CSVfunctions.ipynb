{
 "cells": [
  {
   "cell_type": "code",
   "execution_count": 1,
   "id": "c80c53aa",
   "metadata": {},
   "outputs": [],
   "source": [
    "import pandas\n",
    "import numpy\n",
    "import pandas as pd\n",
    "import numpy as np\n",
    "import matplotlib.pyplot as plt"
   ]
  },
  {
   "cell_type": "code",
   "execution_count": 43,
   "id": "51b40bc6",
   "metadata": {},
   "outputs": [],
   "source": [
    "data = pd.read_csv('data/HDFCLIFE.csv')"
   ]
  },
  {
   "cell_type": "code",
   "execution_count": 44,
   "id": "1f495c59",
   "metadata": {
    "scrolled": true
   },
   "outputs": [
    {
     "data": {
      "text/html": [
       "<div>\n",
       "<style scoped>\n",
       "    .dataframe tbody tr th:only-of-type {\n",
       "        vertical-align: middle;\n",
       "    }\n",
       "\n",
       "    .dataframe tbody tr th {\n",
       "        vertical-align: top;\n",
       "    }\n",
       "\n",
       "    .dataframe thead th {\n",
       "        text-align: right;\n",
       "    }\n",
       "</style>\n",
       "<table border=\"1\" class=\"dataframe\">\n",
       "  <thead>\n",
       "    <tr style=\"text-align: right;\">\n",
       "      <th></th>\n",
       "      <th>OPEN</th>\n",
       "      <th>HIGH</th>\n",
       "      <th>LOW</th>\n",
       "      <th>PREV. CLOSE</th>\n",
       "      <th>LTP</th>\n",
       "      <th>CLOSE</th>\n",
       "      <th>VWAP</th>\n",
       "      <th>52WH</th>\n",
       "      <th>52WL</th>\n",
       "      <th>VOLUME</th>\n",
       "      <th>No of trades</th>\n",
       "    </tr>\n",
       "  </thead>\n",
       "  <tbody>\n",
       "    <tr>\n",
       "      <th>count</th>\n",
       "      <td>249.000000</td>\n",
       "      <td>249.000000</td>\n",
       "      <td>249.000000</td>\n",
       "      <td>249.000000</td>\n",
       "      <td>249.000000</td>\n",
       "      <td>249.000000</td>\n",
       "      <td>249.000000</td>\n",
       "      <td>249.000000</td>\n",
       "      <td>249.000000</td>\n",
       "      <td>2.490000e+02</td>\n",
       "      <td>249.000000</td>\n",
       "    </tr>\n",
       "    <tr>\n",
       "      <th>mean</th>\n",
       "      <td>655.777912</td>\n",
       "      <td>661.841767</td>\n",
       "      <td>648.138554</td>\n",
       "      <td>654.883735</td>\n",
       "      <td>654.522289</td>\n",
       "      <td>654.513253</td>\n",
       "      <td>654.754739</td>\n",
       "      <td>765.409438</td>\n",
       "      <td>550.952410</td>\n",
       "      <td>3.654682e+06</td>\n",
       "      <td>80194.819277</td>\n",
       "    </tr>\n",
       "    <tr>\n",
       "      <th>std</th>\n",
       "      <td>62.964291</td>\n",
       "      <td>62.167352</td>\n",
       "      <td>63.428526</td>\n",
       "      <td>62.583853</td>\n",
       "      <td>62.771070</td>\n",
       "      <td>62.739226</td>\n",
       "      <td>62.961371</td>\n",
       "      <td>14.126748</td>\n",
       "      <td>50.048874</td>\n",
       "      <td>3.978281e+06</td>\n",
       "      <td>42973.794420</td>\n",
       "    </tr>\n",
       "    <tr>\n",
       "      <th>min</th>\n",
       "      <td>500.000000</td>\n",
       "      <td>514.950000</td>\n",
       "      <td>497.050000</td>\n",
       "      <td>503.500000</td>\n",
       "      <td>503.550000</td>\n",
       "      <td>503.500000</td>\n",
       "      <td>504.890000</td>\n",
       "      <td>746.000000</td>\n",
       "      <td>459.000000</td>\n",
       "      <td>4.091640e+05</td>\n",
       "      <td>24377.000000</td>\n",
       "    </tr>\n",
       "    <tr>\n",
       "      <th>25%</th>\n",
       "      <td>635.000000</td>\n",
       "      <td>639.850000</td>\n",
       "      <td>622.100000</td>\n",
       "      <td>633.600000</td>\n",
       "      <td>630.000000</td>\n",
       "      <td>630.800000</td>\n",
       "      <td>630.080000</td>\n",
       "      <td>746.000000</td>\n",
       "      <td>497.050000</td>\n",
       "      <td>1.943112e+06</td>\n",
       "      <td>54905.000000</td>\n",
       "    </tr>\n",
       "    <tr>\n",
       "      <th>50%</th>\n",
       "      <td>672.000000</td>\n",
       "      <td>677.450000</td>\n",
       "      <td>666.750000</td>\n",
       "      <td>671.100000</td>\n",
       "      <td>671.000000</td>\n",
       "      <td>671.050000</td>\n",
       "      <td>671.670000</td>\n",
       "      <td>775.650000</td>\n",
       "      <td>555.950000</td>\n",
       "      <td>2.644690e+06</td>\n",
       "      <td>69386.000000</td>\n",
       "    </tr>\n",
       "    <tr>\n",
       "      <th>75%</th>\n",
       "      <td>696.000000</td>\n",
       "      <td>702.000000</td>\n",
       "      <td>688.100000</td>\n",
       "      <td>693.800000</td>\n",
       "      <td>693.850000</td>\n",
       "      <td>693.800000</td>\n",
       "      <td>695.160000</td>\n",
       "      <td>775.650000</td>\n",
       "      <td>590.450000</td>\n",
       "      <td>3.678237e+06</td>\n",
       "      <td>90812.000000</td>\n",
       "    </tr>\n",
       "    <tr>\n",
       "      <th>max</th>\n",
       "      <td>759.000000</td>\n",
       "      <td>775.650000</td>\n",
       "      <td>743.500000</td>\n",
       "      <td>759.000000</td>\n",
       "      <td>760.000000</td>\n",
       "      <td>759.000000</td>\n",
       "      <td>754.710000</td>\n",
       "      <td>775.650000</td>\n",
       "      <td>627.000000</td>\n",
       "      <td>4.108107e+07</td>\n",
       "      <td>327691.000000</td>\n",
       "    </tr>\n",
       "  </tbody>\n",
       "</table>\n",
       "</div>"
      ],
      "text/plain": [
       "             OPEN        HIGH         LOW  PREV. CLOSE          LTP  \\\n",
       "count  249.000000  249.000000  249.000000    249.000000  249.000000   \n",
       "mean   655.777912  661.841767  648.138554    654.883735  654.522289   \n",
       "std     62.964291   62.167352   63.428526     62.583853   62.771070   \n",
       "min    500.000000  514.950000  497.050000    503.500000  503.550000   \n",
       "25%    635.000000  639.850000  622.100000    633.600000  630.000000   \n",
       "50%    672.000000  677.450000  666.750000    671.100000  671.000000   \n",
       "75%    696.000000  702.000000  688.100000    693.800000  693.850000   \n",
       "max    759.000000  775.650000  743.500000    759.000000  760.000000   \n",
       "\n",
       "            CLOSE        VWAP       52WH        52WL        VOLUME   \\\n",
       "count  249.000000  249.000000  249.000000  249.000000  2.490000e+02   \n",
       "mean   654.513253  654.754739  765.409438  550.952410  3.654682e+06   \n",
       "std     62.739226   62.961371   14.126748   50.048874  3.978281e+06   \n",
       "min    503.500000  504.890000  746.000000  459.000000  4.091640e+05   \n",
       "25%    630.800000  630.080000  746.000000  497.050000  1.943112e+06   \n",
       "50%    671.050000  671.670000  775.650000  555.950000  2.644690e+06   \n",
       "75%    693.800000  695.160000  775.650000  590.450000  3.678237e+06   \n",
       "max    759.000000  754.710000  775.650000  627.000000  4.108107e+07   \n",
       "\n",
       "       No of trades   \n",
       "count     249.000000  \n",
       "mean    80194.819277  \n",
       "std     42973.794420  \n",
       "min     24377.000000  \n",
       "25%     54905.000000  \n",
       "50%     69386.000000  \n",
       "75%     90812.000000  \n",
       "max    327691.000000  "
      ]
     },
     "execution_count": 44,
     "metadata": {},
     "output_type": "execute_result"
    }
   ],
   "source": [
    "data.describe()"
   ]
  },
  {
   "cell_type": "code",
   "execution_count": 45,
   "id": "08ab2b0c",
   "metadata": {},
   "outputs": [
    {
     "data": {
      "text/plain": [
       "<AxesSubplot:>"
      ]
     },
     "execution_count": 45,
     "metadata": {},
     "output_type": "execute_result"
    },
    {
     "data": {
      "image/png": "[encoded data removed]",
      "text/plain": [
       "<Figure size 432x288 with 1 Axes>"
      ]
     },
     "metadata": {
      "needs_background": "light"
     },
     "output_type": "display_data"
    }
   ],
   "source": [
    "data.plot()"
   ]
  },
  {
   "cell_type": "code",
   "execution_count": 46,
   "id": "de014939",
   "metadata": {},
   "outputs": [
    {
     "data": {
      "text/plain": [
       "<AxesSubplot:>"
      ]
     },
     "execution_count": 46,
     "metadata": {},
     "output_type": "execute_result"
    },
    {
     "data": {
      "image/png": "[encoded data removed]",
      "text/plain": [
       "<Figure size 432x288 with 1 Axes>"
      ]
     },
     "metadata": {
      "needs_background": "light"
     },
     "output_type": "display_data"
    }
   ],
   "source": [
    "data['OPEN'].plot()"
   ]
  },
  {
   "cell_type": "code",
   "execution_count": 9,
   "id": "d59b91d4",
   "metadata": {},
   "outputs": [
    {
     "name": "stdout",
     "output_type": "stream",
     "text": [
      "<class 'pandas.core.frame.DataFrame'>\n",
      "RangeIndex: 249 entries, 0 to 248\n",
      "Data columns (total 14 columns):\n",
      " #   Column         Non-Null Count  Dtype  \n",
      "---  ------         --------------  -----  \n",
      " 0   Date           249 non-null    object \n",
      " 1   series         249 non-null    object \n",
      " 2   OPEN           249 non-null    float64\n",
      " 3   HIGH           249 non-null    float64\n",
      " 4   LOW            249 non-null    float64\n",
      " 5   PREV. CLOSE    249 non-null    float64\n",
      " 6   ltp            249 non-null    float64\n",
      " 7   close          249 non-null    float64\n",
      " 8   vwap           249 non-null    float64\n",
      " 9   52W H          249 non-null    float64\n",
      " 10  52W L          249 non-null    float64\n",
      " 11  VOLUME         249 non-null    int64  \n",
      " 12  VALUE          249 non-null    object \n",
      " 13  No of trades   249 non-null    int64  \n",
      "dtypes: float64(9), int64(2), object(3)\n",
      "memory usage: 27.4+ KB\n"
     ]
    }
   ],
   "source": [
    "data.info()"
   ]
  },
  {
   "cell_type": "code",
   "execution_count": 47,
   "id": "f1d7167c",
   "metadata": {},
   "outputs": [
    {
     "data": {
      "text/plain": [
       "Index(['Date ', 'SERIES', 'OPEN', 'HIGH', 'LOW', 'PREV. CLOSE ', 'LTP',\n",
       "       'CLOSE', 'VWAP', '52WH ', '52WL ', 'VOLUME ', 'VALUE ',\n",
       "       'No of trades '],\n",
       "      dtype='object')"
      ]
     },
     "execution_count": 47,
     "metadata": {},
     "output_type": "execute_result"
    }
   ],
   "source": [
    "data.columns"
   ]
  },
  {
   "cell_type": "code",
   "execution_count": 13,
   "id": "a8dbaef0",
   "metadata": {},
   "outputs": [
    {
     "data": {
      "text/plain": [
       "Date              object\n",
       "series            object\n",
       "OPEN             float64\n",
       "HIGH             float64\n",
       "LOW              float64\n",
       "PREV. CLOSE      float64\n",
       "ltp              float64\n",
       "close            float64\n",
       "vwap             float64\n",
       "52W H            float64\n",
       "52W L            float64\n",
       "VOLUME             int64\n",
       "VALUE             object\n",
       "No of trades       int64\n",
       "dtype: object"
      ]
     },
     "execution_count": 13,
     "metadata": {},
     "output_type": "execute_result"
    }
   ],
   "source": [
    "data.dtypes"
   ]
  },
  {
   "cell_type": "code",
   "execution_count": 14,
   "id": "1347f3ee",
   "metadata": {},
   "outputs": [
    {
     "data": {
      "text/plain": [
       "<bound method DataFrame.info of            Date  series    OPEN    HIGH     LOW   PREV. CLOSE    ltp   close   \\\n",
       "0    29-Apr-2022      EQ  575.35  594.00  573.20        571.40  581.6  582.40   \n",
       "1    28-Apr-2022      EQ  550.90  575.35  546.50        547.65  571.4  571.40   \n",
       "2    27-Apr-2022      EQ  552.00  558.45  537.25        549.85  547.7  547.65   \n",
       "3    26-Apr-2022      EQ  541.10  556.00  537.95        540.00  548.9  549.85   \n",
       "4    25-Apr-2022      EQ  552.00  552.00  536.00        554.05  542.0  540.00   \n",
       "..           ...     ...     ...     ...     ...           ...    ...     ...   \n",
       "244  06-May-2021      EQ  672.00  679.90  669.00        674.40  671.7  671.80   \n",
       "245  05-May-2021      EQ  670.05  675.80  667.00        667.85  673.9  674.40   \n",
       "246  04-May-2021      EQ  677.00  680.85  665.50        671.90  669.0  667.85   \n",
       "247  03-May-2021      EQ  660.00  674.50  657.15        665.10  673.7  671.90   \n",
       "248  30-Apr-2021      EQ  670.00  678.00  660.70        674.65  662.9  665.10   \n",
       "\n",
       "      vwap   52W H   52W L    VOLUME             VALUE   No of trades   \n",
       "0    586.04  775.65  497.05   8916828  5,225,605,076.70         143404  \n",
       "1    559.23  775.65  497.05  14954957  8,363,251,852.20         168212  \n",
       "2    547.19  775.65  497.05   4744055  2,595,920,500.10          97046  \n",
       "3    546.85  775.65  497.05   4153518  2,271,361,912.10          80629  \n",
       "4    541.72  775.65  497.05   3225681  1,747,406,998.60          67671  \n",
       "..      ...     ...     ...       ...               ...            ...  \n",
       "244  672.93  746.00  464.00   2269126  1,526,955,618.85          47123  \n",
       "245  671.15  746.00  464.00   2249063  1,509,451,700.25          53489  \n",
       "246  671.71  746.00  464.00   4118750  2,766,611,158.90         102269  \n",
       "247  666.04  746.00  464.00   4908079  3,268,991,058.95         101245  \n",
       "248  669.95  746.00  459.00   2742166  1,837,121,825.70          79379  \n",
       "\n",
       "[249 rows x 14 columns]>"
      ]
     },
     "execution_count": 14,
     "metadata": {},
     "output_type": "execute_result"
    }
   ],
   "source": [
    "data.info"
   ]
  },
  {
   "cell_type": "code",
   "execution_count": 48,
   "id": "2aeeeb95",
   "metadata": {},
   "outputs": [
    {
     "data": {
      "text/plain": [
       "<AxesSubplot:ylabel='Frequency'>"
      ]
     },
     "execution_count": 48,
     "metadata": {},
     "output_type": "execute_result"
    },
    {
     "data": {
      "image/png": "[encoded data removed]",
      "text/plain": [
       "<Figure size 432x288 with 1 Axes>"
      ]
     },
     "metadata": {
      "needs_background": "light"
     },
     "output_type": "display_data"
    }
   ],
   "source": [
    "data['OPEN'].plot(kind='hist')"
   ]
  },
  {
   "cell_type": "code",
   "execution_count": 49,
   "id": "eac60743",
   "metadata": {},
   "outputs": [
    {
     "data": {
      "text/plain": [
       "<AxesSubplot:>"
      ]
     },
     "execution_count": 49,
     "metadata": {},
     "output_type": "execute_result"
    },
    {
     "data": {
      "image/png": "[encoded data removed]",
      "text/plain": [
       "<Figure size 432x288 with 1 Axes>"
      ]
     },
     "metadata": {
      "needs_background": "light"
     },
     "output_type": "display_data"
    }
   ],
   "source": [
    "data['HIGH'].plot(kind='area')"
   ]
  },
  {
   "cell_type": "code",
   "execution_count": 50,
   "id": "543e51ba",
   "metadata": {},
   "outputs": [
    {
     "data": {
      "text/plain": [
       "<AxesSubplot:>"
      ]
     },
     "execution_count": 50,
     "metadata": {},
     "output_type": "execute_result"
    },
    {
     "data": {
      "image/png": "[encoded data removed]",
      "text/plain": [
       "<Figure size 432x288 with 1 Axes>"
      ]
     },
     "metadata": {
      "needs_background": "light"
     },
     "output_type": "display_data"
    }
   ],
   "source": [
    "data['LOW'].plot(kind='bar')"
   ]
  },
  {
   "cell_type": "code",
   "execution_count": 51,
   "id": "a1c80939",
   "metadata": {},
   "outputs": [
    {
     "data": {
      "text/plain": [
       "<AxesSubplot:ylabel='Density'>"
      ]
     },
     "execution_count": 51,
     "metadata": {},
     "output_type": "execute_result"
    },
    {
     "data": {
      "image/png": "[encoded data removed]",
      "text/plain": [
       "<Figure size 432x288 with 1 Axes>"
      ]
     },
     "metadata": {
      "needs_background": "light"
     },
     "output_type": "display_data"
    }
   ],
   "source": [
    "data['LTP'].plot(kind='density')"
   ]
  },
  {
   "cell_type": "code",
   "execution_count": 53,
   "id": "b90f9040",
   "metadata": {},
   "outputs": [
    {
     "data": {
      "text/plain": [
       "<AxesSubplot:ylabel='Density'>"
      ]
     },
     "execution_count": 53,
     "metadata": {},
     "output_type": "execute_result"
    },
    {
     "data": {
      "image/png": "[encoded data removed]",
      "text/plain": [
       "<Figure size 432x288 with 1 Axes>"
      ]
     },
     "metadata": {
      "needs_background": "light"
     },
     "output_type": "display_data"
    }
   ],
   "source": [
    "data['OPEN'].plot(kind='kde')"
   ]
  },
  {
   "cell_type": "code",
   "execution_count": 54,
   "id": "f11d8c10",
   "metadata": {},
   "outputs": [
    {
     "data": {
      "text/plain": [
       "<AxesSubplot:>"
      ]
     },
     "execution_count": 54,
     "metadata": {},
     "output_type": "execute_result"
    },
    {
     "data": {
      "image/png": "[encoded data removed]",
      "text/plain": [
       "<Figure size 432x288 with 1 Axes>"
      ]
     },
     "metadata": {
      "needs_background": "light"
     },
     "output_type": "display_data"
    }
   ],
   "source": [
    "data['HIGH'].plot(kind='box')"
   ]
  },
  {
   "cell_type": "code",
   "execution_count": 55,
   "id": "5a5cbd05",
   "metadata": {},
   "outputs": [
    {
     "data": {
      "text/plain": [
       "<AxesSubplot:>"
      ]
     },
     "execution_count": 55,
     "metadata": {},
     "output_type": "execute_result"
    },
    {
     "data": {
      "image/png": "[encoded data removed]",
      "text/plain": [
       "<Figure size 432x288 with 1 Axes>"
      ]
     },
     "metadata": {
      "needs_background": "light"
     },
     "output_type": "display_data"
    }
   ],
   "source": [
    "data['HIGH'].plot(kind='barh')"
   ]
  },
  {
   "cell_type": "code",
   "execution_count": 56,
   "id": "42a7b36f",
   "metadata": {},
   "outputs": [
    {
     "data": {
      "text/plain": [
       "<AxesSubplot:>"
      ]
     },
     "execution_count": 56,
     "metadata": {},
     "output_type": "execute_result"
    },
    {
     "data": {
      "image/png": "[encoded data removed]",
      "text/plain": [
       "<Figure size 432x288 with 1 Axes>"
      ]
     },
     "metadata": {
      "needs_background": "light"
     },
     "output_type": "display_data"
    }
   ],
   "source": [
    "data['LTP'].plot(kind='line')"
   ]
  },
  {
   "cell_type": "markdown",
   "id": "00e54696",
   "metadata": {},
   "source": [
    "display.max.columns displays all the columns in the file"
   ]
  },
  {
   "cell_type": "code",
   "execution_count": 60,
   "id": "856e94d8",
   "metadata": {},
   "outputs": [],
   "source": [
    "pd.set_option(\"display.max.columns\", None)"
   ]
  },
  {
   "cell_type": "markdown",
   "id": "f161fc3a",
   "metadata": {},
   "source": [
    "Head default value is 5 rows we can specify as head(any number) to display the specific number of rows"
   ]
  },
  {
   "cell_type": "code",
   "execution_count": 61,
   "id": "c076d348",
   "metadata": {},
   "outputs": [
    {
     "data": {
      "text/html": [
       "<div>\n",
       "<style scoped>\n",
       "    .dataframe tbody tr th:only-of-type {\n",
       "        vertical-align: middle;\n",
       "    }\n",
       "\n",
       "    .dataframe tbody tr th {\n",
       "        vertical-align: top;\n",
       "    }\n",
       "\n",
       "    .dataframe thead th {\n",
       "        text-align: right;\n",
       "    }\n",
       "</style>\n",
       "<table border=\"1\" class=\"dataframe\">\n",
       "  <thead>\n",
       "    <tr style=\"text-align: right;\">\n",
       "      <th></th>\n",
       "      <th>Date</th>\n",
       "      <th>SERIES</th>\n",
       "      <th>OPEN</th>\n",
       "      <th>HIGH</th>\n",
       "      <th>LOW</th>\n",
       "      <th>PREV. CLOSE</th>\n",
       "      <th>LTP</th>\n",
       "      <th>CLOSE</th>\n",
       "      <th>VWAP</th>\n",
       "      <th>52WH</th>\n",
       "      <th>52WL</th>\n",
       "      <th>VOLUME</th>\n",
       "      <th>VALUE</th>\n",
       "      <th>No of trades</th>\n",
       "    </tr>\n",
       "  </thead>\n",
       "  <tbody>\n",
       "    <tr>\n",
       "      <th>0</th>\n",
       "      <td>29-Apr-22</td>\n",
       "      <td>EQ</td>\n",
       "      <td>575.35</td>\n",
       "      <td>594.00</td>\n",
       "      <td>573.2</td>\n",
       "      <td>571.40</td>\n",
       "      <td>581.6</td>\n",
       "      <td>582.4</td>\n",
       "      <td>586.04</td>\n",
       "      <td>775.65</td>\n",
       "      <td>497.05</td>\n",
       "      <td>8916828</td>\n",
       "      <td>5,22,56,05,076.70</td>\n",
       "      <td>143404</td>\n",
       "    </tr>\n",
       "    <tr>\n",
       "      <th>1</th>\n",
       "      <td>28-Apr-22</td>\n",
       "      <td>EQ</td>\n",
       "      <td>550.90</td>\n",
       "      <td>575.35</td>\n",
       "      <td>546.5</td>\n",
       "      <td>547.65</td>\n",
       "      <td>571.4</td>\n",
       "      <td>571.4</td>\n",
       "      <td>559.23</td>\n",
       "      <td>775.65</td>\n",
       "      <td>497.05</td>\n",
       "      <td>14954957</td>\n",
       "      <td>8,36,32,51,852.20</td>\n",
       "      <td>168212</td>\n",
       "    </tr>\n",
       "  </tbody>\n",
       "</table>\n",
       "</div>"
      ],
      "text/plain": [
       "       Date  SERIES    OPEN    HIGH    LOW  PREV. CLOSE     LTP  CLOSE  \\\n",
       "0  29-Apr-22     EQ  575.35  594.00  573.2        571.40  581.6  582.4   \n",
       "1  28-Apr-22     EQ  550.90  575.35  546.5        547.65  571.4  571.4   \n",
       "\n",
       "     VWAP   52WH    52WL    VOLUME              VALUE   No of trades   \n",
       "0  586.04  775.65  497.05   8916828  5,22,56,05,076.70         143404  \n",
       "1  559.23  775.65  497.05  14954957  8,36,32,51,852.20         168212  "
      ]
     },
     "execution_count": 61,
     "metadata": {},
     "output_type": "execute_result"
    }
   ],
   "source": [
    "data.head(2)"
   ]
  },
  {
   "cell_type": "markdown",
   "id": "10109e99",
   "metadata": {},
   "source": [
    "name.plot(x=\"\",y=[\"\",\"\"]) gives the plot with specific rows and columns as mentioned"
   ]
  },
  {
   "cell_type": "code",
   "execution_count": 71,
   "id": "7145861c",
   "metadata": {},
   "outputs": [],
   "source": [
    "%matplotlib inline"
   ]
  },
  {
   "cell_type": "code",
   "execution_count": 75,
   "id": "f14e51c6",
   "metadata": {},
   "outputs": [
    {
     "data": {
      "image/png": "[encoded data removed]",
      "text/plain": [
       "<Figure size 432x288 with 1 Axes>"
      ]
     },
     "metadata": {
      "needs_background": "light"
     },
     "output_type": "display_data"
    }
   ],
   "source": [
    "data.plot(x=\"SERIES\", y=\"OPEN\")\n",
    "plt.show()"
   ]
  },
  {
   "cell_type": "markdown",
   "id": "b791ecf2",
   "metadata": {},
   "source": [
    "Creating plot using matplotlib- plt.plot(df[\"OPEN\"], df[\"CLOSE\"]) or df.plot(x=\"\",y=\"\")"
   ]
  },
  {
   "cell_type": "markdown",
   "id": "618030c7",
   "metadata": {},
   "source": [
    "#Plotting top 5 values by OPEN value in descending order in a bar chart\n",
    "\n",
    "top_5 = df.sort_values(by=\"OPEN\", ascending=False).head()\n",
    "\n",
    "top_5.plot(x=\"Date\", y=\"OPEN\", kind=\"bar\", rot=5, fontsize=4)"
   ]
  },
  {
   "cell_type": "code",
   "execution_count": 77,
   "id": "c0850180",
   "metadata": {},
   "outputs": [
    {
     "data": {
      "text/plain": [
       "[<matplotlib.lines.Line2D at 0x1dd603a5190>]"
      ]
     },
     "execution_count": 77,
     "metadata": {},
     "output_type": "execute_result"
    },
    {
     "data": {
      "image/png": "[encoded data removed]",
      "text/plain": [
       "<Figure size 432x288 with 1 Axes>"
      ]
     },
     "metadata": {
      "needs_background": "light"
     },
     "output_type": "display_data"
    }
   ],
   "source": [
    "plt.plot(data[\"OPEN\"], data[\"LTP\"])"
   ]
  },
  {
   "cell_type": "code",
   "execution_count": 82,
   "id": "4ea5a3cd",
   "metadata": {},
   "outputs": [
    {
     "data": {
      "text/plain": [
       "<AxesSubplot:xlabel='LTP'>"
      ]
     },
     "execution_count": 82,
     "metadata": {},
     "output_type": "execute_result"
    },
    {
     "data": {
      "image/png": "[encoded data removed]",
      "text/plain": [
       "<Figure size 432x288 with 1 Axes>"
      ]
     },
     "metadata": {
      "needs_background": "light"
     },
     "output_type": "display_data"
    }
   ],
   "source": [
    "top_6 = data.sort_values(by=\"OPEN\", ascending=False).head(6)\n",
    "\n",
    "top_6.plot(x=\"LTP\", y=\"OPEN\", kind=\"bar\", rot=5, fontsize=4)"
   ]
  },
  {
   "cell_type": "code",
   "execution_count": 86,
   "id": "dded7ffd",
   "metadata": {},
   "outputs": [
    {
     "name": "stdout",
     "output_type": "stream",
     "text": [
      "Requirement already satisfied: pandas_datareader in c:\\anaconda\\lib\\site-packages (0.10.0)\n",
      "Requirement already satisfied: requests>=2.19.0 in c:\\anaconda\\lib\\site-packages (from pandas_datareader) (2.26.0)\n",
      "Requirement already satisfied: lxml in c:\\anaconda\\lib\\site-packages (from pandas_datareader) (4.6.3)\n",
      "Requirement already satisfied: pandas>=0.23 in c:\\anaconda\\lib\\site-packages (from pandas_datareader) (1.3.4)\n",
      "Requirement already satisfied: numpy>=1.17.3 in c:\\anaconda\\lib\\site-packages (from pandas>=0.23->pandas_datareader) (1.20.3)\n",
      "Requirement already satisfied: pytz>=2017.3 in c:\\anaconda\\lib\\site-packages (from pandas>=0.23->pandas_datareader) (2021.3)\n",
      "Requirement already satisfied: python-dateutil>=2.7.3 in c:\\anaconda\\lib\\site-packages (from pandas>=0.23->pandas_datareader) (2.8.2)\n",
      "Requirement already satisfied: six>=1.5 in c:\\anaconda\\lib\\site-packages (from python-dateutil>=2.7.3->pandas>=0.23->pandas_datareader) (1.16.0)\n",
      "Requirement already satisfied: charset-normalizer~=2.0.0 in c:\\anaconda\\lib\\site-packages (from requests>=2.19.0->pandas_datareader) (2.0.4)\n",
      "Requirement already satisfied: idna<4,>=2.5 in c:\\anaconda\\lib\\site-packages (from requests>=2.19.0->pandas_datareader) (3.2)\n",
      "Requirement already satisfied: certifi>=2017.4.17 in c:\\anaconda\\lib\\site-packages (from requests>=2.19.0->pandas_datareader) (2021.10.8)\n",
      "Requirement already satisfied: urllib3<1.27,>=1.21.1 in c:\\anaconda\\lib\\site-packages (from requests>=2.19.0->pandas_datareader) (1.26.7)\n"
     ]
    }
   ],
   "source": [
    "! pip install pandas_datareader"
   ]
  },
  {
   "cell_type": "code",
   "execution_count": 2,
   "id": "ca5487e1",
   "metadata": {},
   "outputs": [
    {
     "name": "stdout",
     "output_type": "stream",
     "text": [
      "Collecting yfinance\n",
      "  Downloading yfinance-0.1.70-py2.py3-none-any.whl (26 kB)\n",
      "Requirement already satisfied: pandas>=0.24.0 in c:\\anaconda\\lib\\site-packages (from yfinance) (1.3.4)\n",
      "Requirement already satisfied: numpy>=1.15 in c:\\anaconda\\lib\\site-packages (from yfinance) (1.20.3)\n",
      "Requirement already satisfied: lxml>=4.5.1 in c:\\anaconda\\lib\\site-packages (from yfinance) (4.6.3)\n",
      "Collecting multitasking>=0.0.7\n",
      "  Downloading multitasking-0.0.10.tar.gz (8.2 kB)\n",
      "Requirement already satisfied: requests>=2.26 in c:\\anaconda\\lib\\site-packages (from yfinance) (2.26.0)\n",
      "Requirement already satisfied: pytz>=2017.3 in c:\\anaconda\\lib\\site-packages (from pandas>=0.24.0->yfinance) (2021.3)\n",
      "Requirement already satisfied: python-dateutil>=2.7.3 in c:\\anaconda\\lib\\site-packages (from pandas>=0.24.0->yfinance) (2.8.2)\n",
      "Requirement already satisfied: six>=1.5 in c:\\anaconda\\lib\\site-packages (from python-dateutil>=2.7.3->pandas>=0.24.0->yfinance) (1.16.0)\n",
      "Requirement already satisfied: charset-normalizer~=2.0.0 in c:\\anaconda\\lib\\site-packages (from requests>=2.26->yfinance) (2.0.4)\n",
      "Requirement already satisfied: certifi>=2017.4.17 in c:\\anaconda\\lib\\site-packages (from requests>=2.26->yfinance) (2021.10.8)\n",
      "Requirement already satisfied: idna<4,>=2.5 in c:\\anaconda\\lib\\site-packages (from requests>=2.26->yfinance) (3.2)\n",
      "Requirement already satisfied: urllib3<1.27,>=1.21.1 in c:\\anaconda\\lib\\site-packages (from requests>=2.26->yfinance) (1.26.7)\n",
      "Building wheels for collected packages: multitasking\n",
      "  Building wheel for multitasking (setup.py): started\n",
      "  Building wheel for multitasking (setup.py): finished with status 'done'\n",
      "  Created wheel for multitasking: filename=multitasking-0.0.10-py3-none-any.whl size=8500 sha256=0938a9bb8dda48b334ca9b1a3b0483777d938e939805894fbd45ccbc560ba081\n",
      "  Stored in directory: c:\\users\\nivethitha k s\\appdata\\local\\pip\\cache\\wheels\\f2\\b5\\2c\\59ba95dcf854e542944c75fe3da584e4e3833b319735a0546c\n",
      "Successfully built multitasking\n",
      "Installing collected packages: multitasking, yfinance\n",
      "Successfully installed multitasking-0.0.10 yfinance-0.1.70\n",
      "Collecting plotly\n",
      "  Downloading plotly-5.7.0-py2.py3-none-any.whl (28.8 MB)\n",
      "Requirement already satisfied: six in c:\\anaconda\\lib\\site-packages (from plotly) (1.16.0)\n",
      "Collecting tenacity>=6.2.0\n",
      "  Downloading tenacity-8.0.1-py3-none-any.whl (24 kB)\n",
      "Installing collected packages: tenacity, plotly\n",
      "Successfully installed plotly-5.7.0 tenacity-8.0.1\n"
     ]
    }
   ],
   "source": [
    "! pip install yfinance\n",
    "! pip install plotly"
   ]
  },
  {
   "cell_type": "code",
   "execution_count": 4,
   "id": "730ee1e2",
   "metadata": {},
   "outputs": [
    {
     "name": "stdout",
     "output_type": "stream",
     "text": [
      "Requirement already satisfied: pandas_datareader in c:\\anaconda\\lib\\site-packages (0.10.0)\n",
      "Requirement already satisfied: requests>=2.19.0 in c:\\anaconda\\lib\\site-packages (from pandas_datareader) (2.26.0)\n",
      "Requirement already satisfied: pandas>=0.23 in c:\\anaconda\\lib\\site-packages (from pandas_datareader) (1.3.4)\n",
      "Requirement already satisfied: lxml in c:\\anaconda\\lib\\site-packages (from pandas_datareader) (4.6.3)\n",
      "Requirement already satisfied: python-dateutil>=2.7.3 in c:\\anaconda\\lib\\site-packages (from pandas>=0.23->pandas_datareader) (2.8.2)\n",
      "Requirement already satisfied: numpy>=1.17.3 in c:\\anaconda\\lib\\site-packages (from pandas>=0.23->pandas_datareader) (1.20.3)\n",
      "Requirement already satisfied: pytz>=2017.3 in c:\\anaconda\\lib\\site-packages (from pandas>=0.23->pandas_datareader) (2021.3)\n",
      "Requirement already satisfied: six>=1.5 in c:\\anaconda\\lib\\site-packages (from python-dateutil>=2.7.3->pandas>=0.23->pandas_datareader) (1.16.0)\n",
      "Requirement already satisfied: urllib3<1.27,>=1.21.1 in c:\\anaconda\\lib\\site-packages (from requests>=2.19.0->pandas_datareader) (1.26.7)\n",
      "Requirement already satisfied: certifi>=2017.4.17 in c:\\anaconda\\lib\\site-packages (from requests>=2.19.0->pandas_datareader) (2021.10.8)\n",
      "Requirement already satisfied: charset-normalizer~=2.0.0 in c:\\anaconda\\lib\\site-packages (from requests>=2.19.0->pandas_datareader) (2.0.4)\n",
      "Requirement already satisfied: idna<4,>=2.5 in c:\\anaconda\\lib\\site-packages (from requests>=2.19.0->pandas_datareader) (3.2)\n"
     ]
    }
   ],
   "source": [
    "!pip install pandas_datareader"
   ]
  },
  {
   "cell_type": "code",
   "execution_count": 6,
   "id": "4fcb0290",
   "metadata": {},
   "outputs": [],
   "source": [
    "#import the necessary packages\n",
    "import pandas_datareader as pdr"
   ]
  },
  {
   "cell_type": "code",
   "execution_count": 14,
   "id": "b6d48588",
   "metadata": {},
   "outputs": [
    {
     "data": {
      "text/html": [
       "<div>\n",
       "<style scoped>\n",
       "    .dataframe tbody tr th:only-of-type {\n",
       "        vertical-align: middle;\n",
       "    }\n",
       "\n",
       "    .dataframe tbody tr th {\n",
       "        vertical-align: top;\n",
       "    }\n",
       "\n",
       "    .dataframe thead th {\n",
       "        text-align: right;\n",
       "    }\n",
       "</style>\n",
       "<table border=\"1\" class=\"dataframe\">\n",
       "  <thead>\n",
       "    <tr style=\"text-align: right;\">\n",
       "      <th></th>\n",
       "      <th>High</th>\n",
       "      <th>Low</th>\n",
       "      <th>Open</th>\n",
       "      <th>Close</th>\n",
       "      <th>Volume</th>\n",
       "      <th>Adj Close</th>\n",
       "    </tr>\n",
       "    <tr>\n",
       "      <th>Date</th>\n",
       "      <th></th>\n",
       "      <th></th>\n",
       "      <th></th>\n",
       "      <th></th>\n",
       "      <th></th>\n",
       "      <th></th>\n",
       "    </tr>\n",
       "  </thead>\n",
       "  <tbody>\n",
       "    <tr>\n",
       "      <th>2021-04-28</th>\n",
       "      <td>682.500000</td>\n",
       "      <td>671.150024</td>\n",
       "      <td>682.500000</td>\n",
       "      <td>672.599976</td>\n",
       "      <td>4011121</td>\n",
       "      <td>670.620911</td>\n",
       "    </tr>\n",
       "    <tr>\n",
       "      <th>2021-04-29</th>\n",
       "      <td>681.349976</td>\n",
       "      <td>672.150024</td>\n",
       "      <td>678.000000</td>\n",
       "      <td>674.650024</td>\n",
       "      <td>3939217</td>\n",
       "      <td>672.664917</td>\n",
       "    </tr>\n",
       "    <tr>\n",
       "      <th>2021-04-30</th>\n",
       "      <td>678.000000</td>\n",
       "      <td>660.700012</td>\n",
       "      <td>670.000000</td>\n",
       "      <td>665.099976</td>\n",
       "      <td>2742166</td>\n",
       "      <td>663.142944</td>\n",
       "    </tr>\n",
       "    <tr>\n",
       "      <th>2021-05-03</th>\n",
       "      <td>674.500000</td>\n",
       "      <td>657.150024</td>\n",
       "      <td>660.000000</td>\n",
       "      <td>671.900024</td>\n",
       "      <td>4908079</td>\n",
       "      <td>669.922974</td>\n",
       "    </tr>\n",
       "    <tr>\n",
       "      <th>2021-05-04</th>\n",
       "      <td>680.849976</td>\n",
       "      <td>665.500000</td>\n",
       "      <td>677.000000</td>\n",
       "      <td>667.849976</td>\n",
       "      <td>4118750</td>\n",
       "      <td>665.884888</td>\n",
       "    </tr>\n",
       "    <tr>\n",
       "      <th>2021-05-05</th>\n",
       "      <td>675.799988</td>\n",
       "      <td>667.000000</td>\n",
       "      <td>670.049988</td>\n",
       "      <td>674.400024</td>\n",
       "      <td>2249063</td>\n",
       "      <td>672.415649</td>\n",
       "    </tr>\n",
       "    <tr>\n",
       "      <th>2021-05-06</th>\n",
       "      <td>679.900024</td>\n",
       "      <td>669.000000</td>\n",
       "      <td>672.000000</td>\n",
       "      <td>671.799988</td>\n",
       "      <td>2269126</td>\n",
       "      <td>669.823242</td>\n",
       "    </tr>\n",
       "    <tr>\n",
       "      <th>2021-05-07</th>\n",
       "      <td>680.500000</td>\n",
       "      <td>671.049988</td>\n",
       "      <td>678.000000</td>\n",
       "      <td>672.650024</td>\n",
       "      <td>1913550</td>\n",
       "      <td>670.670776</td>\n",
       "    </tr>\n",
       "    <tr>\n",
       "      <th>2021-05-10</th>\n",
       "      <td>685.950012</td>\n",
       "      <td>670.250000</td>\n",
       "      <td>670.250000</td>\n",
       "      <td>680.049988</td>\n",
       "      <td>4342679</td>\n",
       "      <td>678.048950</td>\n",
       "    </tr>\n",
       "    <tr>\n",
       "      <th>2021-05-11</th>\n",
       "      <td>681.500000</td>\n",
       "      <td>669.900024</td>\n",
       "      <td>678.000000</td>\n",
       "      <td>671.250000</td>\n",
       "      <td>2430724</td>\n",
       "      <td>669.274902</td>\n",
       "    </tr>\n",
       "    <tr>\n",
       "      <th>2021-05-12</th>\n",
       "      <td>673.950012</td>\n",
       "      <td>665.099976</td>\n",
       "      <td>671.250000</td>\n",
       "      <td>668.799988</td>\n",
       "      <td>2428984</td>\n",
       "      <td>666.832092</td>\n",
       "    </tr>\n",
       "  </tbody>\n",
       "</table>\n",
       "</div>"
      ],
      "text/plain": [
       "                  High         Low        Open       Close   Volume  \\\n",
       "Date                                                                  \n",
       "2021-04-28  682.500000  671.150024  682.500000  672.599976  4011121   \n",
       "2021-04-29  681.349976  672.150024  678.000000  674.650024  3939217   \n",
       "2021-04-30  678.000000  660.700012  670.000000  665.099976  2742166   \n",
       "2021-05-03  674.500000  657.150024  660.000000  671.900024  4908079   \n",
       "2021-05-04  680.849976  665.500000  677.000000  667.849976  4118750   \n",
       "2021-05-05  675.799988  667.000000  670.049988  674.400024  2249063   \n",
       "2021-05-06  679.900024  669.000000  672.000000  671.799988  2269126   \n",
       "2021-05-07  680.500000  671.049988  678.000000  672.650024  1913550   \n",
       "2021-05-10  685.950012  670.250000  670.250000  680.049988  4342679   \n",
       "2021-05-11  681.500000  669.900024  678.000000  671.250000  2430724   \n",
       "2021-05-12  673.950012  665.099976  671.250000  668.799988  2428984   \n",
       "\n",
       "             Adj Close  \n",
       "Date                    \n",
       "2021-04-28  670.620911  \n",
       "2021-04-29  672.664917  \n",
       "2021-04-30  663.142944  \n",
       "2021-05-03  669.922974  \n",
       "2021-05-04  665.884888  \n",
       "2021-05-05  672.415649  \n",
       "2021-05-06  669.823242  \n",
       "2021-05-07  670.670776  \n",
       "2021-05-10  678.048950  \n",
       "2021-05-11  669.274902  \n",
       "2021-05-12  666.832092  "
      ]
     },
     "execution_count": 14,
     "metadata": {},
     "output_type": "execute_result"
    }
   ],
   "source": [
    "#getting stockdata from yahoo using pandas datareader- date in yyyy-mm-dd format\n",
    "stockdata = pdr.data.get_data_yahoo('hdfclife.ns' , start='2021-04-28' , end='2021-05-13')\n",
    "stockdata"
   ]
  },
  {
   "cell_type": "code",
   "execution_count": 22,
   "id": "5f9a1b41",
   "metadata": {},
   "outputs": [
    {
     "data": {
      "text/plain": [
       "<AxesSubplot:xlabel='Date'>"
      ]
     },
     "execution_count": 22,
     "metadata": {},
     "output_type": "execute_result"
    },
    {
     "data": {
      "image/png": "[encoded data removed]",
      "text/plain": [
       "<Figure size 432x288 with 1 Axes>"
      ]
     },
     "metadata": {
      "needs_background": "light"
     },
     "output_type": "display_data"
    }
   ],
   "source": [
    "#plotting a specific variable in default chart size\n",
    "stockdata['High'].plot()"
   ]
  },
  {
   "cell_type": "code",
   "execution_count": 23,
   "id": "016e7fc9",
   "metadata": {},
   "outputs": [
    {
     "data": {
      "text/plain": [
       "<AxesSubplot:xlabel='Date'>"
      ]
     },
     "execution_count": 23,
     "metadata": {},
     "output_type": "execute_result"
    },
    {
     "data": {
      "image/png": "[encoded data removed]",
      "text/plain": [
       "<Figure size 1080x360 with 1 Axes>"
      ]
     },
     "metadata": {
      "needs_background": "light"
     },
     "output_type": "display_data"
    }
   ],
   "source": [
    "#plotting a specific variable in the specified chart size\n",
    "stockdata['High'].plot(figsize=(15,5))"
   ]
  },
  {
   "cell_type": "code",
   "execution_count": 25,
   "id": "798fd65f",
   "metadata": {},
   "outputs": [
    {
     "data": {
      "text/plain": [
       "<AxesSubplot:xlabel='Date'>"
      ]
     },
     "execution_count": 25,
     "metadata": {},
     "output_type": "execute_result"
    },
    {
     "data": {
      "image/png": "[encoded data removed]",
      "text/plain": [
       "<Figure size 1080x360 with 1 Axes>"
      ]
     },
     "metadata": {
      "needs_background": "light"
     },
     "output_type": "display_data"
    }
   ],
   "source": [
    "#plotting a multiple variables in the specified chart size- additional square paranthesis are required\n",
    "stockdata[['High','Low']].plot(figsize=(15,5))"
   ]
  },
  {
   "cell_type": "code",
   "execution_count": 32,
   "id": "6821f6f1",
   "metadata": {},
   "outputs": [
    {
     "data": {
      "image/png": "[encoded data removed]",
      "text/plain": [
       "<Figure size 1080x360 with 1 Axes>"
      ]
     },
     "metadata": {
      "needs_background": "light"
     },
     "output_type": "display_data"
    }
   ],
   "source": [
    "#plotting a specific range of multiple variables in the specified chart size- using loc(dates within quotes)\n",
    "stockdata.loc['2021-05-01':'2021-05-04',['High','Low']].plot(figsize=(15,5));"
   ]
  },
  {
   "cell_type": "code",
   "execution_count": 36,
   "id": "0147d935",
   "metadata": {},
   "outputs": [
    {
     "name": "stderr",
     "output_type": "stream",
     "text": [
      "C:\\Users\\Nivethitha K S\\AppData\\Local\\Temp/ipykernel_7004/3370798085.py:2: FutureWarning: Indexing a DataFrame with a datetimelike index using a single string to slice the rows, like `frame[string]`, is deprecated and will be removed in a future version. Use `frame.loc[string]` instead.\n",
      "  stockdata['2021-04']\n"
     ]
    },
    {
     "data": {
      "text/html": [
       "<div>\n",
       "<style scoped>\n",
       "    .dataframe tbody tr th:only-of-type {\n",
       "        vertical-align: middle;\n",
       "    }\n",
       "\n",
       "    .dataframe tbody tr th {\n",
       "        vertical-align: top;\n",
       "    }\n",
       "\n",
       "    .dataframe thead th {\n",
       "        text-align: right;\n",
       "    }\n",
       "</style>\n",
       "<table border=\"1\" class=\"dataframe\">\n",
       "  <thead>\n",
       "    <tr style=\"text-align: right;\">\n",
       "      <th></th>\n",
       "      <th>High</th>\n",
       "      <th>Low</th>\n",
       "      <th>Open</th>\n",
       "      <th>Close</th>\n",
       "      <th>Volume</th>\n",
       "      <th>Adj Close</th>\n",
       "    </tr>\n",
       "    <tr>\n",
       "      <th>Date</th>\n",
       "      <th></th>\n",
       "      <th></th>\n",
       "      <th></th>\n",
       "      <th></th>\n",
       "      <th></th>\n",
       "      <th></th>\n",
       "    </tr>\n",
       "  </thead>\n",
       "  <tbody>\n",
       "    <tr>\n",
       "      <th>2021-04-28</th>\n",
       "      <td>682.500000</td>\n",
       "      <td>671.150024</td>\n",
       "      <td>682.5</td>\n",
       "      <td>672.599976</td>\n",
       "      <td>4011121</td>\n",
       "      <td>670.620911</td>\n",
       "    </tr>\n",
       "    <tr>\n",
       "      <th>2021-04-29</th>\n",
       "      <td>681.349976</td>\n",
       "      <td>672.150024</td>\n",
       "      <td>678.0</td>\n",
       "      <td>674.650024</td>\n",
       "      <td>3939217</td>\n",
       "      <td>672.664917</td>\n",
       "    </tr>\n",
       "    <tr>\n",
       "      <th>2021-04-30</th>\n",
       "      <td>678.000000</td>\n",
       "      <td>660.700012</td>\n",
       "      <td>670.0</td>\n",
       "      <td>665.099976</td>\n",
       "      <td>2742166</td>\n",
       "      <td>663.142944</td>\n",
       "    </tr>\n",
       "  </tbody>\n",
       "</table>\n",
       "</div>"
      ],
      "text/plain": [
       "                  High         Low   Open       Close   Volume   Adj Close\n",
       "Date                                                                      \n",
       "2021-04-28  682.500000  671.150024  682.5  672.599976  4011121  670.620911\n",
       "2021-04-29  681.349976  672.150024  678.0  674.650024  3939217  672.664917\n",
       "2021-04-30  678.000000  660.700012  670.0  665.099976  2742166  663.142944"
      ]
     },
     "execution_count": 36,
     "metadata": {},
     "output_type": "execute_result"
    }
   ],
   "source": [
    "#slicing a specific month \n",
    "stockdata['2021-04']"
   ]
  },
  {
   "cell_type": "code",
   "execution_count": 59,
   "id": "e1634097",
   "metadata": {},
   "outputs": [
    {
     "name": "stdout",
     "output_type": "stream",
     "text": [
      "https://query1.finance.yahoo.com/v7/finance/download/HDFCLIFE.NS?period1=1626719400&period2=1645727400&interval=1d&events=history\n",
      "1626719400 1645727400\n"
     ]
    }
   ],
   "source": [
    "#importing stock data using a defined url- Yahoo finance\n",
    "\n",
    "#import necessary packages\n",
    "import datetime\n",
    "import pandas as pd\n",
    "\n",
    "#define the key variables- .NS is not removed so it takes the NSE stock data\n",
    "stockcode ='HDFCLIFE'\n",
    "\n",
    "#converting the date into an epoch number\n",
    "ts1 = str(int(datetime.datetime(2021, 7, 20).timestamp())) \n",
    "ts2 = str(int(datetime.datetime(2022, 2, 25).timestamp()))\n",
    "\n",
    "interval = '1d'\n",
    "#interval = '1wk'\n",
    "#interval = '1mo'\n",
    "\n",
    "events = 'history'\n",
    "#events = 'div'\n",
    "#events = 'split'\n",
    "\n",
    "#https://query1.finance.yahoo.com/v7/finance/download/HDFCBANK.NS?period1=1620962369&period2=1652498369&interval=1d&events=history&includeAdjustedClose=true\n",
    "#unchanged parts with quotes and addition of variable is done with a '+' sign\n",
    "url = 'https://query1.finance.yahoo.com/v7/finance/download/'\\\n",
    "      + stockcode + '.NS?period1=' + ts1 + '&period2=' + ts2 + '&interval='\\\n",
    "      + interval + '&events=' + events\n",
    "\n",
    "print(url)\n",
    "print (ts1, ts2)"
   ]
  },
  {
   "cell_type": "code",
   "execution_count": 60,
   "id": "bceb6078",
   "metadata": {},
   "outputs": [
    {
     "data": {
      "text/html": [
       "<div>\n",
       "<style scoped>\n",
       "    .dataframe tbody tr th:only-of-type {\n",
       "        vertical-align: middle;\n",
       "    }\n",
       "\n",
       "    .dataframe tbody tr th {\n",
       "        vertical-align: top;\n",
       "    }\n",
       "\n",
       "    .dataframe thead th {\n",
       "        text-align: right;\n",
       "    }\n",
       "</style>\n",
       "<table border=\"1\" class=\"dataframe\">\n",
       "  <thead>\n",
       "    <tr style=\"text-align: right;\">\n",
       "      <th></th>\n",
       "      <th>Date</th>\n",
       "      <th>Open</th>\n",
       "      <th>High</th>\n",
       "      <th>Low</th>\n",
       "      <th>Close</th>\n",
       "      <th>Adj Close</th>\n",
       "      <th>Volume</th>\n",
       "    </tr>\n",
       "  </thead>\n",
       "  <tbody>\n",
       "    <tr>\n",
       "      <th>0</th>\n",
       "      <td>2021-07-20</td>\n",
       "      <td>678.700012</td>\n",
       "      <td>681.500000</td>\n",
       "      <td>661.950012</td>\n",
       "      <td>663.450012</td>\n",
       "      <td>663.450012</td>\n",
       "      <td>3629414</td>\n",
       "    </tr>\n",
       "    <tr>\n",
       "      <th>1</th>\n",
       "      <td>2021-07-22</td>\n",
       "      <td>664.000000</td>\n",
       "      <td>669.400024</td>\n",
       "      <td>661.099976</td>\n",
       "      <td>662.099976</td>\n",
       "      <td>662.099976</td>\n",
       "      <td>4062964</td>\n",
       "    </tr>\n",
       "    <tr>\n",
       "      <th>2</th>\n",
       "      <td>2021-07-23</td>\n",
       "      <td>662.099976</td>\n",
       "      <td>667.950012</td>\n",
       "      <td>661.799988</td>\n",
       "      <td>665.349976</td>\n",
       "      <td>665.349976</td>\n",
       "      <td>2796725</td>\n",
       "    </tr>\n",
       "    <tr>\n",
       "      <th>3</th>\n",
       "      <td>2021-07-26</td>\n",
       "      <td>665.000000</td>\n",
       "      <td>665.400024</td>\n",
       "      <td>660.349976</td>\n",
       "      <td>663.099976</td>\n",
       "      <td>663.099976</td>\n",
       "      <td>2503714</td>\n",
       "    </tr>\n",
       "    <tr>\n",
       "      <th>4</th>\n",
       "      <td>2021-07-27</td>\n",
       "      <td>666.000000</td>\n",
       "      <td>674.799988</td>\n",
       "      <td>662.900024</td>\n",
       "      <td>668.750000</td>\n",
       "      <td>668.750000</td>\n",
       "      <td>3512513</td>\n",
       "    </tr>\n",
       "    <tr>\n",
       "      <th>5</th>\n",
       "      <td>2021-07-28</td>\n",
       "      <td>674.450012</td>\n",
       "      <td>674.450012</td>\n",
       "      <td>661.150024</td>\n",
       "      <td>664.849976</td>\n",
       "      <td>664.849976</td>\n",
       "      <td>2686658</td>\n",
       "    </tr>\n",
       "    <tr>\n",
       "      <th>6</th>\n",
       "      <td>2021-07-29</td>\n",
       "      <td>666.049988</td>\n",
       "      <td>669.950012</td>\n",
       "      <td>661.000000</td>\n",
       "      <td>662.650024</td>\n",
       "      <td>662.650024</td>\n",
       "      <td>1981009</td>\n",
       "    </tr>\n",
       "  </tbody>\n",
       "</table>\n",
       "</div>"
      ],
      "text/plain": [
       "         Date        Open        High         Low       Close   Adj Close  \\\n",
       "0  2021-07-20  678.700012  681.500000  661.950012  663.450012  663.450012   \n",
       "1  2021-07-22  664.000000  669.400024  661.099976  662.099976  662.099976   \n",
       "2  2021-07-23  662.099976  667.950012  661.799988  665.349976  665.349976   \n",
       "3  2021-07-26  665.000000  665.400024  660.349976  663.099976  663.099976   \n",
       "4  2021-07-27  666.000000  674.799988  662.900024  668.750000  668.750000   \n",
       "5  2021-07-28  674.450012  674.450012  661.150024  664.849976  664.849976   \n",
       "6  2021-07-29  666.049988  669.950012  661.000000  662.650024  662.650024   \n",
       "\n",
       "    Volume  \n",
       "0  3629414  \n",
       "1  4062964  \n",
       "2  2796725  \n",
       "3  2503714  \n",
       "4  3512513  \n",
       "5  2686658  \n",
       "6  1981009  "
      ]
     },
     "execution_count": 60,
     "metadata": {},
     "output_type": "execute_result"
    }
   ],
   "source": [
    "#reading the csv file from the url\n",
    "stockdata = pd.read_csv(url)\n",
    "stockdata.head(7)"
   ]
  },
  {
   "cell_type": "code",
   "execution_count": 62,
   "id": "c44416a4",
   "metadata": {},
   "outputs": [
    {
     "data": {
      "text/plain": [
       "<AxesSubplot:xlabel='Date'>"
      ]
     },
     "execution_count": 62,
     "metadata": {},
     "output_type": "execute_result"
    },
    {
     "data": {
      "image/png": "[encoded data removed]",
      "text/plain": [
       "<Figure size 432x288 with 1 Axes>"
      ]
     },
     "metadata": {
      "needs_background": "light"
     },
     "output_type": "display_data"
    }
   ],
   "source": [
    "stockdata.plot(x=\"Date\", y=\"High\")"
   ]
  },
  {
   "cell_type": "code",
   "execution_count": 68,
   "id": "3a118b61",
   "metadata": {},
   "outputs": [
    {
     "name": "stdout",
     "output_type": "stream",
     "text": [
      "Requirement already satisfied: nsepy in c:\\anaconda\\lib\\site-packages (0.8)\n",
      "Requirement already satisfied: click in c:\\anaconda\\lib\\site-packages (from nsepy) (8.0.3)\n",
      "Requirement already satisfied: lxml in c:\\anaconda\\lib\\site-packages (from nsepy) (4.6.3)\n",
      "Requirement already satisfied: requests in c:\\anaconda\\lib\\site-packages (from nsepy) (2.26.0)\n",
      "Requirement already satisfied: numpy in c:\\anaconda\\lib\\site-packages (from nsepy) (1.20.3)\n",
      "Requirement already satisfied: six in c:\\anaconda\\lib\\site-packages (from nsepy) (1.16.0)\n",
      "Requirement already satisfied: beautifulsoup4 in c:\\anaconda\\lib\\site-packages (from nsepy) (4.10.0)\n",
      "Requirement already satisfied: pandas in c:\\anaconda\\lib\\site-packages (from nsepy) (1.3.4)\n",
      "Requirement already satisfied: soupsieve>1.2 in c:\\anaconda\\lib\\site-packages (from beautifulsoup4->nsepy) (2.2.1)\n",
      "Requirement already satisfied: colorama in c:\\anaconda\\lib\\site-packages (from click->nsepy) (0.4.4)\n",
      "Requirement already satisfied: python-dateutil>=2.7.3 in c:\\anaconda\\lib\\site-packages (from pandas->nsepy) (2.8.2)\n",
      "Requirement already satisfied: pytz>=2017.3 in c:\\anaconda\\lib\\site-packages (from pandas->nsepy) (2021.3)\n",
      "Requirement already satisfied: idna<4,>=2.5 in c:\\anaconda\\lib\\site-packages (from requests->nsepy) (3.2)\n",
      "Requirement already satisfied: urllib3<1.27,>=1.21.1 in c:\\anaconda\\lib\\site-packages (from requests->nsepy) (1.26.7)\n",
      "Requirement already satisfied: certifi>=2017.4.17 in c:\\anaconda\\lib\\site-packages (from requests->nsepy) (2021.10.8)\n",
      "Requirement already satisfied: charset-normalizer~=2.0.0 in c:\\anaconda\\lib\\site-packages (from requests->nsepy) (2.0.4)\n",
      "Requirement already satisfied: datetime in c:\\anaconda\\lib\\site-packages (4.4)\n",
      "Requirement already satisfied: pytz in c:\\anaconda\\lib\\site-packages (from datetime) (2021.3)\n",
      "Requirement already satisfied: zope.interface in c:\\anaconda\\lib\\site-packages (from datetime) (5.4.0)\n",
      "Requirement already satisfied: setuptools in c:\\anaconda\\lib\\site-packages (from zope.interface->datetime) (58.0.4)\n"
     ]
    }
   ],
   "source": [
    "#Get stock data from NSE\n",
    "!pip install nsepy\n",
    "!pip install datetime"
   ]
  },
  {
   "cell_type": "code",
   "execution_count": 101,
   "id": "11db7477",
   "metadata": {},
   "outputs": [
    {
     "data": {
      "text/html": [
       "<div>\n",
       "<style scoped>\n",
       "    .dataframe tbody tr th:only-of-type {\n",
       "        vertical-align: middle;\n",
       "    }\n",
       "\n",
       "    .dataframe tbody tr th {\n",
       "        vertical-align: top;\n",
       "    }\n",
       "\n",
       "    .dataframe thead th {\n",
       "        text-align: right;\n",
       "    }\n",
       "</style>\n",
       "<table border=\"1\" class=\"dataframe\">\n",
       "  <thead>\n",
       "    <tr style=\"text-align: right;\">\n",
       "      <th></th>\n",
       "      <th>Symbol</th>\n",
       "      <th>Series</th>\n",
       "      <th>Prev Close</th>\n",
       "      <th>Open</th>\n",
       "      <th>High</th>\n",
       "      <th>Low</th>\n",
       "      <th>Last</th>\n",
       "      <th>Close</th>\n",
       "      <th>VWAP</th>\n",
       "      <th>Volume</th>\n",
       "      <th>Turnover</th>\n",
       "      <th>Trades</th>\n",
       "      <th>Deliverable Volume</th>\n",
       "      <th>%Deliverble</th>\n",
       "    </tr>\n",
       "    <tr>\n",
       "      <th>Date</th>\n",
       "      <th></th>\n",
       "      <th></th>\n",
       "      <th></th>\n",
       "      <th></th>\n",
       "      <th></th>\n",
       "      <th></th>\n",
       "      <th></th>\n",
       "      <th></th>\n",
       "      <th></th>\n",
       "      <th></th>\n",
       "      <th></th>\n",
       "      <th></th>\n",
       "      <th></th>\n",
       "      <th></th>\n",
       "    </tr>\n",
       "  </thead>\n",
       "  <tbody>\n",
       "    <tr>\n",
       "      <th>2022-05-02</th>\n",
       "      <td>HDFC</td>\n",
       "      <td>EQ</td>\n",
       "      <td>2229.70</td>\n",
       "      <td>2194.10</td>\n",
       "      <td>2270.0</td>\n",
       "      <td>2184.00</td>\n",
       "      <td>2259.00</td>\n",
       "      <td>2264.00</td>\n",
       "      <td>2249.42</td>\n",
       "      <td>3878583</td>\n",
       "      <td>8.724549e+14</td>\n",
       "      <td>175503</td>\n",
       "      <td>2015503</td>\n",
       "      <td>0.5196</td>\n",
       "    </tr>\n",
       "    <tr>\n",
       "      <th>2022-05-04</th>\n",
       "      <td>HDFC</td>\n",
       "      <td>EQ</td>\n",
       "      <td>2264.00</td>\n",
       "      <td>2271.30</td>\n",
       "      <td>2278.0</td>\n",
       "      <td>2192.00</td>\n",
       "      <td>2209.30</td>\n",
       "      <td>2206.95</td>\n",
       "      <td>2242.40</td>\n",
       "      <td>4754704</td>\n",
       "      <td>1.066193e+15</td>\n",
       "      <td>221302</td>\n",
       "      <td>3029406</td>\n",
       "      <td>0.6371</td>\n",
       "    </tr>\n",
       "    <tr>\n",
       "      <th>2022-05-05</th>\n",
       "      <td>HDFC</td>\n",
       "      <td>EQ</td>\n",
       "      <td>2206.95</td>\n",
       "      <td>2230.35</td>\n",
       "      <td>2251.9</td>\n",
       "      <td>2207.00</td>\n",
       "      <td>2215.55</td>\n",
       "      <td>2215.40</td>\n",
       "      <td>2228.94</td>\n",
       "      <td>2661611</td>\n",
       "      <td>5.932563e+14</td>\n",
       "      <td>93119</td>\n",
       "      <td>1590663</td>\n",
       "      <td>0.5976</td>\n",
       "    </tr>\n",
       "    <tr>\n",
       "      <th>2022-05-06</th>\n",
       "      <td>HDFC</td>\n",
       "      <td>EQ</td>\n",
       "      <td>2215.40</td>\n",
       "      <td>2170.00</td>\n",
       "      <td>2190.0</td>\n",
       "      <td>2142.75</td>\n",
       "      <td>2159.00</td>\n",
       "      <td>2150.65</td>\n",
       "      <td>2160.17</td>\n",
       "      <td>3862931</td>\n",
       "      <td>8.344598e+14</td>\n",
       "      <td>176903</td>\n",
       "      <td>2396534</td>\n",
       "      <td>0.6204</td>\n",
       "    </tr>\n",
       "    <tr>\n",
       "      <th>2022-05-09</th>\n",
       "      <td>HDFC</td>\n",
       "      <td>EQ</td>\n",
       "      <td>2150.65</td>\n",
       "      <td>2115.00</td>\n",
       "      <td>2181.0</td>\n",
       "      <td>2113.60</td>\n",
       "      <td>2170.20</td>\n",
       "      <td>2168.30</td>\n",
       "      <td>2148.80</td>\n",
       "      <td>3969231</td>\n",
       "      <td>8.529090e+14</td>\n",
       "      <td>163188</td>\n",
       "      <td>2450142</td>\n",
       "      <td>0.6173</td>\n",
       "    </tr>\n",
       "    <tr>\n",
       "      <th>2022-05-10</th>\n",
       "      <td>HDFC</td>\n",
       "      <td>EQ</td>\n",
       "      <td>2168.30</td>\n",
       "      <td>2163.45</td>\n",
       "      <td>2221.8</td>\n",
       "      <td>2160.25</td>\n",
       "      <td>2200.00</td>\n",
       "      <td>2201.30</td>\n",
       "      <td>2200.26</td>\n",
       "      <td>4205193</td>\n",
       "      <td>9.252533e+14</td>\n",
       "      <td>172317</td>\n",
       "      <td>2558844</td>\n",
       "      <td>0.6085</td>\n",
       "    </tr>\n",
       "  </tbody>\n",
       "</table>\n",
       "</div>"
      ],
      "text/plain": [
       "           Symbol Series  Prev Close     Open    High      Low     Last  \\\n",
       "Date                                                                      \n",
       "2022-05-02   HDFC     EQ     2229.70  2194.10  2270.0  2184.00  2259.00   \n",
       "2022-05-04   HDFC     EQ     2264.00  2271.30  2278.0  2192.00  2209.30   \n",
       "2022-05-05   HDFC     EQ     2206.95  2230.35  2251.9  2207.00  2215.55   \n",
       "2022-05-06   HDFC     EQ     2215.40  2170.00  2190.0  2142.75  2159.00   \n",
       "2022-05-09   HDFC     EQ     2150.65  2115.00  2181.0  2113.60  2170.20   \n",
       "2022-05-10   HDFC     EQ     2168.30  2163.45  2221.8  2160.25  2200.00   \n",
       "\n",
       "              Close     VWAP   Volume      Turnover  Trades  \\\n",
       "Date                                                          \n",
       "2022-05-02  2264.00  2249.42  3878583  8.724549e+14  175503   \n",
       "2022-05-04  2206.95  2242.40  4754704  1.066193e+15  221302   \n",
       "2022-05-05  2215.40  2228.94  2661611  5.932563e+14   93119   \n",
       "2022-05-06  2150.65  2160.17  3862931  8.344598e+14  176903   \n",
       "2022-05-09  2168.30  2148.80  3969231  8.529090e+14  163188   \n",
       "2022-05-10  2201.30  2200.26  4205193  9.252533e+14  172317   \n",
       "\n",
       "            Deliverable Volume  %Deliverble  \n",
       "Date                                         \n",
       "2022-05-02             2015503       0.5196  \n",
       "2022-05-04             3029406       0.6371  \n",
       "2022-05-05             1590663       0.5976  \n",
       "2022-05-06             2396534       0.6204  \n",
       "2022-05-09             2450142       0.6173  \n",
       "2022-05-10             2558844       0.6085  "
      ]
     },
     "execution_count": 101,
     "metadata": {},
     "output_type": "execute_result"
    }
   ],
   "source": [
    "#Getting stock data from NSE\n",
    "from nsepy import get_history\n",
    "from datetime import date\n",
    "\n",
    "#Define the variables\n",
    "start_date = date(2022,5,1)\n",
    "end_date = date(2022,5,10)\n",
    "expiry = date(2022,5,13)\n",
    "stock_symbol = \"HDFC\"\n",
    "\n",
    "stockdata_nse = get_history(symbol=stock_symbol , start=start_date , end=end_date)\n",
    "stockdata_nse"
   ]
  },
  {
   "cell_type": "code",
   "execution_count": 103,
   "id": "10887532",
   "metadata": {},
   "outputs": [
    {
     "data": {
      "text/html": [
       "<div>\n",
       "<style scoped>\n",
       "    .dataframe tbody tr th:only-of-type {\n",
       "        vertical-align: middle;\n",
       "    }\n",
       "\n",
       "    .dataframe tbody tr th {\n",
       "        vertical-align: top;\n",
       "    }\n",
       "\n",
       "    .dataframe thead th {\n",
       "        text-align: right;\n",
       "    }\n",
       "</style>\n",
       "<table border=\"1\" class=\"dataframe\">\n",
       "  <thead>\n",
       "    <tr style=\"text-align: right;\">\n",
       "      <th></th>\n",
       "      <th>Symbol</th>\n",
       "      <th>Expiry</th>\n",
       "      <th>Option Type</th>\n",
       "      <th>Strike Price</th>\n",
       "      <th>Open</th>\n",
       "      <th>High</th>\n",
       "      <th>Low</th>\n",
       "      <th>Close</th>\n",
       "      <th>Last</th>\n",
       "      <th>Settle Price</th>\n",
       "      <th>Number of Contracts</th>\n",
       "      <th>Turnover</th>\n",
       "      <th>Premium Turnover</th>\n",
       "      <th>Open Interest</th>\n",
       "      <th>Change in OI</th>\n",
       "      <th>Underlying</th>\n",
       "    </tr>\n",
       "    <tr>\n",
       "      <th>Date</th>\n",
       "      <th></th>\n",
       "      <th></th>\n",
       "      <th></th>\n",
       "      <th></th>\n",
       "      <th></th>\n",
       "      <th></th>\n",
       "      <th></th>\n",
       "      <th></th>\n",
       "      <th></th>\n",
       "      <th></th>\n",
       "      <th></th>\n",
       "      <th></th>\n",
       "      <th></th>\n",
       "      <th></th>\n",
       "      <th></th>\n",
       "      <th></th>\n",
       "    </tr>\n",
       "  </thead>\n",
       "  <tbody>\n",
       "  </tbody>\n",
       "</table>\n",
       "</div>"
      ],
      "text/plain": [
       "Empty DataFrame\n",
       "Columns: [Symbol, Expiry, Option Type, Strike Price, Open, High, Low, Close, Last, Settle Price, Number of Contracts, Turnover, Premium Turnover, Open Interest, Change in OI, Underlying]\n",
       "Index: []"
      ]
     },
     "execution_count": 103,
     "metadata": {},
     "output_type": "execute_result"
    }
   ],
   "source": [
    "#Getting stockoption data\n",
    "Opdata_nse = get_history(symbol=\"NIFTY\" , start=start_date , end=end_date, index=True, option_type=\"CE\", expiry_date=expiry , strike_price=15800)\n",
    "Opdata_nse"
   ]
  },
  {
   "cell_type": "code",
   "execution_count": 1,
   "id": "62075d52",
   "metadata": {},
   "outputs": [],
   "source": [
    "#Getting stockdata using Pandas Datareader\n",
    "#Pandas Datareader is a Python package to create a pandas DataFrame by using data sources available on the internet\n",
    "import pandas as pd\n",
    "import pandas_datareader.data as web\n",
    "import matplotlib.pyplot as plt"
   ]
  },
  {
   "cell_type": "code",
   "execution_count": 18,
   "id": "2d0e9fcc",
   "metadata": {},
   "outputs": [
    {
     "data": {
      "text/html": [
       "<div>\n",
       "<style scoped>\n",
       "    .dataframe tbody tr th:only-of-type {\n",
       "        vertical-align: middle;\n",
       "    }\n",
       "\n",
       "    .dataframe tbody tr th {\n",
       "        vertical-align: top;\n",
       "    }\n",
       "\n",
       "    .dataframe thead th {\n",
       "        text-align: right;\n",
       "    }\n",
       "</style>\n",
       "<table border=\"1\" class=\"dataframe\">\n",
       "  <thead>\n",
       "    <tr style=\"text-align: right;\">\n",
       "      <th></th>\n",
       "      <th>High</th>\n",
       "      <th>Low</th>\n",
       "      <th>Open</th>\n",
       "      <th>Close</th>\n",
       "      <th>Volume</th>\n",
       "      <th>Adj Close</th>\n",
       "    </tr>\n",
       "    <tr>\n",
       "      <th>Date</th>\n",
       "      <th></th>\n",
       "      <th></th>\n",
       "      <th></th>\n",
       "      <th></th>\n",
       "      <th></th>\n",
       "      <th></th>\n",
       "    </tr>\n",
       "  </thead>\n",
       "  <tbody>\n",
       "    <tr>\n",
       "      <th>2022-01-03</th>\n",
       "      <td>654.650024</td>\n",
       "      <td>646.299988</td>\n",
       "      <td>654.000000</td>\n",
       "      <td>650.500000</td>\n",
       "      <td>1892087</td>\n",
       "      <td>650.500000</td>\n",
       "    </tr>\n",
       "    <tr>\n",
       "      <th>2022-01-04</th>\n",
       "      <td>655.000000</td>\n",
       "      <td>649.049988</td>\n",
       "      <td>652.400024</td>\n",
       "      <td>653.150024</td>\n",
       "      <td>2293391</td>\n",
       "      <td>653.150024</td>\n",
       "    </tr>\n",
       "    <tr>\n",
       "      <th>2022-01-05</th>\n",
       "      <td>658.250000</td>\n",
       "      <td>650.650024</td>\n",
       "      <td>655.000000</td>\n",
       "      <td>653.549988</td>\n",
       "      <td>3326875</td>\n",
       "      <td>653.549988</td>\n",
       "    </tr>\n",
       "    <tr>\n",
       "      <th>2022-01-06</th>\n",
       "      <td>651.950012</td>\n",
       "      <td>644.900024</td>\n",
       "      <td>651.000000</td>\n",
       "      <td>646.900024</td>\n",
       "      <td>2548339</td>\n",
       "      <td>646.900024</td>\n",
       "    </tr>\n",
       "    <tr>\n",
       "      <th>2022-01-07</th>\n",
       "      <td>662.950012</td>\n",
       "      <td>646.000000</td>\n",
       "      <td>647.000000</td>\n",
       "      <td>660.299988</td>\n",
       "      <td>2168995</td>\n",
       "      <td>660.299988</td>\n",
       "    </tr>\n",
       "    <tr>\n",
       "      <th>...</th>\n",
       "      <td>...</td>\n",
       "      <td>...</td>\n",
       "      <td>...</td>\n",
       "      <td>...</td>\n",
       "      <td>...</td>\n",
       "      <td>...</td>\n",
       "    </tr>\n",
       "    <tr>\n",
       "      <th>2022-05-09</th>\n",
       "      <td>569.000000</td>\n",
       "      <td>557.500000</td>\n",
       "      <td>558.150024</td>\n",
       "      <td>563.849976</td>\n",
       "      <td>2774773</td>\n",
       "      <td>563.849976</td>\n",
       "    </tr>\n",
       "    <tr>\n",
       "      <th>2022-05-10</th>\n",
       "      <td>572.900024</td>\n",
       "      <td>558.000000</td>\n",
       "      <td>561.000000</td>\n",
       "      <td>559.200012</td>\n",
       "      <td>3953646</td>\n",
       "      <td>559.200012</td>\n",
       "    </tr>\n",
       "    <tr>\n",
       "      <th>2022-05-11</th>\n",
       "      <td>575.700012</td>\n",
       "      <td>559.500000</td>\n",
       "      <td>559.500000</td>\n",
       "      <td>563.549988</td>\n",
       "      <td>4283207</td>\n",
       "      <td>563.549988</td>\n",
       "    </tr>\n",
       "    <tr>\n",
       "      <th>2022-05-12</th>\n",
       "      <td>564.650024</td>\n",
       "      <td>544.299988</td>\n",
       "      <td>560.099976</td>\n",
       "      <td>547.250000</td>\n",
       "      <td>3079554</td>\n",
       "      <td>547.250000</td>\n",
       "    </tr>\n",
       "    <tr>\n",
       "      <th>2022-05-13</th>\n",
       "      <td>565.849976</td>\n",
       "      <td>548.049988</td>\n",
       "      <td>555.000000</td>\n",
       "      <td>550.750000</td>\n",
       "      <td>3154166</td>\n",
       "      <td>550.750000</td>\n",
       "    </tr>\n",
       "  </tbody>\n",
       "</table>\n",
       "<p>89 rows × 6 columns</p>\n",
       "</div>"
      ],
      "text/plain": [
       "                  High         Low        Open       Close   Volume  \\\n",
       "Date                                                                  \n",
       "2022-01-03  654.650024  646.299988  654.000000  650.500000  1892087   \n",
       "2022-01-04  655.000000  649.049988  652.400024  653.150024  2293391   \n",
       "2022-01-05  658.250000  650.650024  655.000000  653.549988  3326875   \n",
       "2022-01-06  651.950012  644.900024  651.000000  646.900024  2548339   \n",
       "2022-01-07  662.950012  646.000000  647.000000  660.299988  2168995   \n",
       "...                ...         ...         ...         ...      ...   \n",
       "2022-05-09  569.000000  557.500000  558.150024  563.849976  2774773   \n",
       "2022-05-10  572.900024  558.000000  561.000000  559.200012  3953646   \n",
       "2022-05-11  575.700012  559.500000  559.500000  563.549988  4283207   \n",
       "2022-05-12  564.650024  544.299988  560.099976  547.250000  3079554   \n",
       "2022-05-13  565.849976  548.049988  555.000000  550.750000  3154166   \n",
       "\n",
       "             Adj Close  \n",
       "Date                    \n",
       "2022-01-03  650.500000  \n",
       "2022-01-04  653.150024  \n",
       "2022-01-05  653.549988  \n",
       "2022-01-06  646.900024  \n",
       "2022-01-07  660.299988  \n",
       "...                ...  \n",
       "2022-05-09  563.849976  \n",
       "2022-05-10  559.200012  \n",
       "2022-05-11  563.549988  \n",
       "2022-05-12  547.250000  \n",
       "2022-05-13  550.750000  \n",
       "\n",
       "[89 rows x 6 columns]"
      ]
     },
     "execution_count": 18,
     "metadata": {},
     "output_type": "execute_result"
    }
   ],
   "source": [
    "#Define the variables\n",
    "start_date = \"2022-01-1\"\n",
    "end_date = \"2022-12-31\"\n",
    "stockname = \"HDFCLIFE.ns\"\n",
    "datasource = \"yahoo\"\n",
    "#datasource = \"stooq\" - Google finance\n",
    "\n",
    "stockdata = web.DataReader(name=stockname, data_source=datasource, start=start_date, end=end_date)\n",
    "stockdata"
   ]
  },
  {
   "cell_type": "code",
   "execution_count": 22,
   "id": "bb856d0e",
   "metadata": {},
   "outputs": [
    {
     "data": {
      "text/plain": [
       "Text(0, 0.5, 'High')"
      ]
     },
     "execution_count": 22,
     "metadata": {},
     "output_type": "execute_result"
    },
    {
     "data": {
      "image/png": "[encoded data removed]",
      "text/plain": [
       "<Figure size 432x288 with 1 Axes>"
      ]
     },
     "metadata": {
      "needs_background": "light"
     },
     "output_type": "display_data"
    }
   ],
   "source": [
    "#Plot the stock data\n",
    "stock=stockdata['High'].plot(title=stockname)\n",
    "stock.set_xlabel('Date')\n",
    "stock.set_ylabel('High')"
   ]
  },
  {
   "cell_type": "code",
   "execution_count": 30,
   "id": "92f9dc79",
   "metadata": {},
   "outputs": [
    {
     "name": "stdout",
     "output_type": "stream",
     "text": [
      "                High       Low      Open     Close    Volume  Adj Close\n",
      "Date                                                                   \n",
      "2022-01-03       NaN       NaN       NaN       NaN       NaN        NaN\n",
      "2022-01-04  0.000535  0.004255 -0.002446  0.004074  0.212096   0.004074\n",
      "2022-01-05  0.004962  0.002465  0.003985  0.000612  0.450636   0.000612\n",
      "2022-01-06 -0.009571 -0.008837 -0.006107 -0.010175 -0.234014  -0.010175\n",
      "2022-01-07  0.016872  0.001706 -0.006144  0.020714 -0.148859   0.020714\n",
      "...              ...       ...       ...       ...       ...        ...\n",
      "2022-05-09 -0.008279  0.004505  0.005676 -0.003711 -0.300908  -0.003711\n",
      "2022-05-10  0.006854  0.000897  0.005106 -0.008247  0.424854  -0.008247\n",
      "2022-05-11  0.004887  0.002688 -0.002674  0.007779  0.083356   0.007779\n",
      "2022-05-12 -0.019194 -0.027167  0.001072 -0.028924 -0.281017  -0.028924\n",
      "2022-05-13  0.002125  0.006890 -0.009105  0.006396  0.024228   0.006396\n",
      "\n",
      "[89 rows x 6 columns]\n"
     ]
    },
    {
     "data": {
      "text/plain": [
       "<AxesSubplot:xlabel='Date'>"
      ]
     },
     "execution_count": 30,
     "metadata": {},
     "output_type": "execute_result"
    },
    {
     "data": {
      "image/png": "[encoded data removed]",
      "text/plain": [
       "<Figure size 432x288 with 1 Axes>"
      ]
     },
     "metadata": {
      "needs_background": "light"
     },
     "output_type": "display_data"
    }
   ],
   "source": [
    "#To determine the percentage change in stock price\n",
    "returns= stockdata.pct_change()\n",
    "print(returns)\n",
    "returns.plot()"
   ]
  },
  {
   "cell_type": "code",
   "execution_count": null,
   "id": "399869d9",
   "metadata": {},
   "outputs": [],
   "source": []
  }
 ],
 "metadata": {
  "kernelspec": {
   "display_name": "Python 3 (ipykernel)",
   "language": "python",
   "name": "python3"
  },
  "language_info": {
   "codemirror_mode": {
    "name": "ipython",
    "version": 3
   },
   "file_extension": ".py",
   "mimetype": "text/x-python",
   "name": "python",
   "nbconvert_exporter": "python",
   "pygments_lexer": "ipython3",
   "version": "3.9.7"
  }
 },
 "nbformat": 4,
 "nbformat_minor": 5
}
