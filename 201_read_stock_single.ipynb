{
 "cells": [
  {
   "cell_type": "code",
   "execution_count": 1,
   "metadata": {},
   "outputs": [],
   "source": [
    "# in-built packages\n",
    "import matplotlib.pyplot as plt"
   ]
  },
  {
   "cell_type": "code",
   "execution_count": 2,
   "metadata": {},
   "outputs": [],
   "source": [
    "# user defined packages\n",
    "from mod_my_utils.read_write_data import get_price_csv\n",
    "from mod_my_utils.plot_stock import plot_stock\n",
    "from mod_my_utils.misc import summary"
   ]
  },
  {
   "cell_type": "code",
   "execution_count": 3,
   "metadata": {},
   "outputs": [],
   "source": [
    "# Input variables\n",
    "folder = 'data/'\n",
    "stock = 'msft'"
   ]
  },
  {
   "cell_type": "markdown",
   "metadata": {},
   "source": [
    "### Reading data"
   ]
  },
  {
   "cell_type": "code",
   "execution_count": 6,
   "metadata": {},
   "outputs": [
    {
     "name": "stdout",
     "output_type": "stream",
     "text": [
      "stock name:  msft\n"
     ]
    },
    {
     "data": {
      "text/html": [
       "<div>\n",
       "<style scoped>\n",
       "    .dataframe tbody tr th:only-of-type {\n",
       "        vertical-align: middle;\n",
       "    }\n",
       "\n",
       "    .dataframe tbody tr th {\n",
       "        vertical-align: top;\n",
       "    }\n",
       "\n",
       "    .dataframe thead th {\n",
       "        text-align: right;\n",
       "    }\n",
       "</style>\n",
       "<table border=\"1\" class=\"dataframe\">\n",
       "  <thead>\n",
       "    <tr style=\"text-align: right;\">\n",
       "      <th></th>\n",
       "      <th>Open</th>\n",
       "      <th>High</th>\n",
       "      <th>Low</th>\n",
       "      <th>Close</th>\n",
       "      <th>Volume</th>\n",
       "      <th>Ex-Dividend</th>\n",
       "      <th>Split Ratio</th>\n",
       "      <th>Adj. Open</th>\n",
       "      <th>Adj. High</th>\n",
       "      <th>Adj. Low</th>\n",
       "      <th>Adj. Close</th>\n",
       "      <th>Adj. Volume</th>\n",
       "    </tr>\n",
       "    <tr>\n",
       "      <th>Date</th>\n",
       "      <th></th>\n",
       "      <th></th>\n",
       "      <th></th>\n",
       "      <th></th>\n",
       "      <th></th>\n",
       "      <th></th>\n",
       "      <th></th>\n",
       "      <th></th>\n",
       "      <th></th>\n",
       "      <th></th>\n",
       "      <th></th>\n",
       "      <th></th>\n",
       "    </tr>\n",
       "  </thead>\n",
       "  <tbody>\n",
       "    <tr>\n",
       "      <th>2007-12-03</th>\n",
       "      <td>33.50</td>\n",
       "      <td>33.6401</td>\n",
       "      <td>32.68</td>\n",
       "      <td>32.92</td>\n",
       "      <td>61770600.0</td>\n",
       "      <td>0.0</td>\n",
       "      <td>1.0</td>\n",
       "      <td>26.117325</td>\n",
       "      <td>26.226550</td>\n",
       "      <td>25.478036</td>\n",
       "      <td>25.665145</td>\n",
       "      <td>61770600.0</td>\n",
       "    </tr>\n",
       "    <tr>\n",
       "      <th>2007-12-04</th>\n",
       "      <td>32.74</td>\n",
       "      <td>33.2400</td>\n",
       "      <td>32.63</td>\n",
       "      <td>32.77</td>\n",
       "      <td>54801500.0</td>\n",
       "      <td>0.0</td>\n",
       "      <td>1.0</td>\n",
       "      <td>25.524813</td>\n",
       "      <td>25.914624</td>\n",
       "      <td>25.439054</td>\n",
       "      <td>25.548201</td>\n",
       "      <td>54801500.0</td>\n",
       "    </tr>\n",
       "    <tr>\n",
       "      <th>2007-12-05</th>\n",
       "      <td>33.14</td>\n",
       "      <td>34.5200</td>\n",
       "      <td>33.03</td>\n",
       "      <td>34.15</td>\n",
       "      <td>84894700.0</td>\n",
       "      <td>0.0</td>\n",
       "      <td>1.0</td>\n",
       "      <td>25.836661</td>\n",
       "      <td>26.912539</td>\n",
       "      <td>25.750903</td>\n",
       "      <td>26.624079</td>\n",
       "      <td>84894700.0</td>\n",
       "    </tr>\n",
       "    <tr>\n",
       "      <th>2007-12-06</th>\n",
       "      <td>34.26</td>\n",
       "      <td>34.6100</td>\n",
       "      <td>33.87</td>\n",
       "      <td>34.55</td>\n",
       "      <td>49209700.0</td>\n",
       "      <td>0.0</td>\n",
       "      <td>1.0</td>\n",
       "      <td>26.709838</td>\n",
       "      <td>26.982705</td>\n",
       "      <td>26.405785</td>\n",
       "      <td>26.935928</td>\n",
       "      <td>49209700.0</td>\n",
       "    </tr>\n",
       "    <tr>\n",
       "      <th>2007-12-07</th>\n",
       "      <td>34.61</td>\n",
       "      <td>34.7000</td>\n",
       "      <td>34.22</td>\n",
       "      <td>34.53</td>\n",
       "      <td>40771000.0</td>\n",
       "      <td>0.0</td>\n",
       "      <td>1.0</td>\n",
       "      <td>26.982705</td>\n",
       "      <td>27.052871</td>\n",
       "      <td>26.678653</td>\n",
       "      <td>26.920336</td>\n",
       "      <td>40771000.0</td>\n",
       "    </tr>\n",
       "  </tbody>\n",
       "</table>\n",
       "</div>"
      ],
      "text/plain": [
       "             Open     High    Low  Close      Volume  ...  Adj. Open  Adj. High   Adj. Low  Adj. Close  Adj. Volume\n",
       "Date                                                  ...                                                          \n",
       "2007-12-03  33.50  33.6401  32.68  32.92  61770600.0  ...  26.117325  26.226550  25.478036   25.665145   61770600.0\n",
       "2007-12-04  32.74  33.2400  32.63  32.77  54801500.0  ...  25.524813  25.914624  25.439054   25.548201   54801500.0\n",
       "2007-12-05  33.14  34.5200  33.03  34.15  84894700.0  ...  25.836661  26.912539  25.750903   26.624079   84894700.0\n",
       "2007-12-06  34.26  34.6100  33.87  34.55  49209700.0  ...  26.709838  26.982705  26.405785   26.935928   49209700.0\n",
       "2007-12-07  34.61  34.7000  34.22  34.53  40771000.0  ...  26.982705  27.052871  26.678653   26.920336   40771000.0\n",
       "\n",
       "[5 rows x 12 columns]"
      ]
     },
     "execution_count": 6,
     "metadata": {},
     "output_type": "execute_result"
    }
   ],
   "source": [
    "data = get_price_csv(folder, stock, 'Date')\n",
    "data.head()"
   ]
  },
  {
   "cell_type": "code",
   "execution_count": 7,
   "metadata": {},
   "outputs": [
    {
     "name": "stdout",
     "output_type": "stream",
     "text": [
      "stock name:  msft\n"
     ]
    },
    {
     "data": {
      "text/html": [
       "<div>\n",
       "<style scoped>\n",
       "    .dataframe tbody tr th:only-of-type {\n",
       "        vertical-align: middle;\n",
       "    }\n",
       "\n",
       "    .dataframe tbody tr th {\n",
       "        vertical-align: top;\n",
       "    }\n",
       "\n",
       "    .dataframe thead th {\n",
       "        text-align: right;\n",
       "    }\n",
       "</style>\n",
       "<table border=\"1\" class=\"dataframe\">\n",
       "  <thead>\n",
       "    <tr style=\"text-align: right;\">\n",
       "      <th></th>\n",
       "      <th>Open</th>\n",
       "      <th>High</th>\n",
       "      <th>Low</th>\n",
       "      <th>Close</th>\n",
       "      <th>Volume</th>\n",
       "      <th>Ex-Dividend</th>\n",
       "      <th>Split Ratio</th>\n",
       "      <th>Adj. Open</th>\n",
       "      <th>Adj. High</th>\n",
       "      <th>Adj. Low</th>\n",
       "      <th>Adj. Close</th>\n",
       "      <th>Adj. Volume</th>\n",
       "    </tr>\n",
       "    <tr>\n",
       "      <th>Date</th>\n",
       "      <th></th>\n",
       "      <th></th>\n",
       "      <th></th>\n",
       "      <th></th>\n",
       "      <th></th>\n",
       "      <th></th>\n",
       "      <th></th>\n",
       "      <th></th>\n",
       "      <th></th>\n",
       "      <th></th>\n",
       "      <th></th>\n",
       "      <th></th>\n",
       "    </tr>\n",
       "  </thead>\n",
       "  <tbody>\n",
       "    <tr>\n",
       "      <th>2007-12-03</th>\n",
       "      <td>33.50</td>\n",
       "      <td>33.6401</td>\n",
       "      <td>32.68</td>\n",
       "      <td>32.92</td>\n",
       "      <td>61770600.0</td>\n",
       "      <td>0.0</td>\n",
       "      <td>1.0</td>\n",
       "      <td>26.117325</td>\n",
       "      <td>26.226550</td>\n",
       "      <td>25.478036</td>\n",
       "      <td>25.665145</td>\n",
       "      <td>61770600.0</td>\n",
       "    </tr>\n",
       "    <tr>\n",
       "      <th>2007-12-04</th>\n",
       "      <td>32.74</td>\n",
       "      <td>33.2400</td>\n",
       "      <td>32.63</td>\n",
       "      <td>32.77</td>\n",
       "      <td>54801500.0</td>\n",
       "      <td>0.0</td>\n",
       "      <td>1.0</td>\n",
       "      <td>25.524813</td>\n",
       "      <td>25.914624</td>\n",
       "      <td>25.439054</td>\n",
       "      <td>25.548201</td>\n",
       "      <td>54801500.0</td>\n",
       "    </tr>\n",
       "    <tr>\n",
       "      <th>2007-12-05</th>\n",
       "      <td>33.14</td>\n",
       "      <td>34.5200</td>\n",
       "      <td>33.03</td>\n",
       "      <td>34.15</td>\n",
       "      <td>84894700.0</td>\n",
       "      <td>0.0</td>\n",
       "      <td>1.0</td>\n",
       "      <td>25.836661</td>\n",
       "      <td>26.912539</td>\n",
       "      <td>25.750903</td>\n",
       "      <td>26.624079</td>\n",
       "      <td>84894700.0</td>\n",
       "    </tr>\n",
       "    <tr>\n",
       "      <th>2007-12-06</th>\n",
       "      <td>34.26</td>\n",
       "      <td>34.6100</td>\n",
       "      <td>33.87</td>\n",
       "      <td>34.55</td>\n",
       "      <td>49209700.0</td>\n",
       "      <td>0.0</td>\n",
       "      <td>1.0</td>\n",
       "      <td>26.709838</td>\n",
       "      <td>26.982705</td>\n",
       "      <td>26.405785</td>\n",
       "      <td>26.935928</td>\n",
       "      <td>49209700.0</td>\n",
       "    </tr>\n",
       "    <tr>\n",
       "      <th>2007-12-07</th>\n",
       "      <td>34.61</td>\n",
       "      <td>34.7000</td>\n",
       "      <td>34.22</td>\n",
       "      <td>34.53</td>\n",
       "      <td>40771000.0</td>\n",
       "      <td>0.0</td>\n",
       "      <td>1.0</td>\n",
       "      <td>26.982705</td>\n",
       "      <td>27.052871</td>\n",
       "      <td>26.678653</td>\n",
       "      <td>26.920336</td>\n",
       "      <td>40771000.0</td>\n",
       "    </tr>\n",
       "  </tbody>\n",
       "</table>\n",
       "</div>"
      ],
      "text/plain": [
       "             Open     High    Low  Close      Volume  ...  Adj. Open  Adj. High   Adj. Low  Adj. Close  Adj. Volume\n",
       "Date                                                  ...                                                          \n",
       "2007-12-03  33.50  33.6401  32.68  32.92  61770600.0  ...  26.117325  26.226550  25.478036   25.665145   61770600.0\n",
       "2007-12-04  32.74  33.2400  32.63  32.77  54801500.0  ...  25.524813  25.914624  25.439054   25.548201   54801500.0\n",
       "2007-12-05  33.14  34.5200  33.03  34.15  84894700.0  ...  25.836661  26.912539  25.750903   26.624079   84894700.0\n",
       "2007-12-06  34.26  34.6100  33.87  34.55  49209700.0  ...  26.709838  26.982705  26.405785   26.935928   49209700.0\n",
       "2007-12-07  34.61  34.7000  34.22  34.53  40771000.0  ...  26.982705  27.052871  26.678653   26.920336   40771000.0\n",
       "\n",
       "[5 rows x 12 columns]"
      ]
     },
     "execution_count": 7,
     "metadata": {},
     "output_type": "execute_result"
    }
   ],
   "source": [
    "get_price_csv(folder, stock, 'Date').head()"
   ]
  },
  {
   "cell_type": "code",
   "execution_count": null,
   "metadata": {},
   "outputs": [],
   "source": []
  },
  {
   "cell_type": "markdown",
   "metadata": {},
   "source": [
    "### Plotting Data"
   ]
  },
  {
   "cell_type": "code",
   "execution_count": 9,
   "metadata": {},
   "outputs": [],
   "source": [
    "var_list = ['Open', 'Close']"
   ]
  },
  {
   "cell_type": "code",
   "execution_count": 12,
   "metadata": {},
   "outputs": [
    {
     "name": "stdout",
     "output_type": "stream",
     "text": [
      "cloumns selected for plotting ['Open', 'Close']\n"
     ]
    },
    {
     "data": {
      "image/png": "[encoded data removed]",
      "text/plain": [
       "<Figure size 432x288 with 1 Axes>"
      ]
     },
     "metadata": {
      "needs_background": "light"
     },
     "output_type": "display_data"
    }
   ],
   "source": [
    "plot_stock(stock, data=data, var_list= var_list)"
   ]
  },
  {
   "cell_type": "markdown",
   "metadata": {},
   "source": [
    "### Initial Data Analysis"
   ]
  },
  {
   "cell_type": "code",
   "execution_count": 13,
   "metadata": {},
   "outputs": [
    {
     "name": "stdout",
     "output_type": "stream",
     "text": [
      "Columns of data frame \n",
      " Index(['Open', 'High', 'Low', 'Close', 'Volume', 'Ex-Dividend', 'Split Ratio',\n",
      "       'Adj. Open', 'Adj. High', 'Adj. Low', 'Adj. Close', 'Adj. Volume'],\n",
      "      dtype='object')\n",
      "Row information \n",
      " DatetimeIndex(['2007-12-03', '2007-12-04', '2007-12-05', '2007-12-06',\n",
      "               '2007-12-07', '2007-12-10', '2007-12-11', '2007-12-12',\n",
      "               '2007-12-13', '2007-12-14',\n",
      "               ...\n",
      "               '2017-11-17', '2017-11-20', '2017-11-21', '2017-11-22',\n",
      "               '2017-11-24', '2017-11-27', '2017-11-28', '2017-11-29',\n",
      "               '2017-11-30', '2017-12-01'],\n",
      "              dtype='datetime64[ns]', name='Date', length=2518, freq=None)\n",
      "First few rows \n",
      "              Open     High    Low  Close      Volume  ...  Adj. Open  Adj. High   Adj. Low  Adj. Close  Adj. Volume\n",
      "Date                                                  ...                                                          \n",
      "2007-12-03  33.50  33.6401  32.68  32.92  61770600.0  ...  26.117325  26.226550  25.478036   25.665145   61770600.0\n",
      "2007-12-04  32.74  33.2400  32.63  32.77  54801500.0  ...  25.524813  25.914624  25.439054   25.548201   54801500.0\n",
      "2007-12-05  33.14  34.5200  33.03  34.15  84894700.0  ...  25.836661  26.912539  25.750903   26.624079   84894700.0\n",
      "\n",
      "[3 rows x 12 columns]\n",
      "Summary Statistics\n",
      "               Open         High          Low        Close  ...    Adj. High     Adj. Low   Adj. Close   Adj. Volume\n",
      "count  2518.000000  2518.000000  2518.000000  2518.000000  ...  2518.000000  2518.000000  2518.000000  2.518000e+03\n",
      "mean     37.721654    38.065660    37.379931    37.738610  ...    34.382282    33.773943    34.093112  4.919451e+07\n",
      "std      14.944429    14.997317    14.892367    14.959358  ...    16.231660    16.091690    16.176293  2.898379e+07\n",
      "min      15.200000    15.620000    14.870000    15.150000  ...    12.490554    11.890816    12.114718  7.425503e+06\n",
      "25%      26.760000    27.000000    26.480000    26.770000  ...    22.278395    21.805118    22.010893  2.912200e+07\n",
      "50%      31.100000    31.440000    30.905000    31.182500  ...    26.847986    26.373391    26.623365  4.382790e+07\n",
      "75%      46.750000    47.100000    46.339650    46.747500  ...    44.049551    43.188737    43.674555  6.091848e+07\n",
      "max      84.770000    86.200000    84.082500    84.880000  ...    85.765899    84.020000    84.880000  3.193179e+08\n",
      "\n",
      "[8 rows x 12 columns]\n"
     ]
    },
    {
     "data": {
      "image/png": "[encoded data removed]",
      "text/plain": [
       "<Figure size 432x288 with 1 Axes>"
      ]
     },
     "metadata": {
      "needs_background": "light"
     },
     "output_type": "display_data"
    }
   ],
   "source": [
    "summary(data)"
   ]
  }
 ],
 "metadata": {
  "kernelspec": {
   "display_name": "Python 3 (ipykernel)",
   "language": "python",
   "name": "python3"
  },
  "language_info": {
   "codemirror_mode": {
    "name": "ipython",
    "version": 3
   },
   "file_extension": ".py",
   "mimetype": "text/x-python",
   "name": "python",
   "nbconvert_exporter": "python",
   "pygments_lexer": "ipython3",
   "version": "3.9.7"
  }
 },
 "nbformat": 4,
 "nbformat_minor": 2
}
