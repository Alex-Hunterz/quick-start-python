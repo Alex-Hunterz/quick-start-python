{
 "cells": [
  {
   "cell_type": "markdown",
   "id": "eba16f80",
   "metadata": {},
   "source": [
    "### OBJECT ORIENTED PROGRAMMING IN PYTHON\n"
   ]
  },
  {
   "cell_type": "code",
   "execution_count": 47,
   "id": "4a44e135",
   "metadata": {},
   "outputs": [],
   "source": [
    "class Animal():\n",
    "    \n",
    "    #class level attributes\n",
    "    #available to all instances of class and not depend on the object on the class\n",
    "    \n",
    "    species=\"mammal\"\n",
    "    \n",
    "    def __init__(self,name,colour,spots):\n",
    "        #Attributes\n",
    "        \"\"\"\n",
    "        This is a special method of the class which is assigned the parameter of the class and the \n",
    "        input parametr will always be fixed as self\n",
    "        self:is an object which is referring to the class Animal itself\n",
    "        input parameters: name,colour,spots\n",
    "        \"\"\"\n",
    "        self.name=name\n",
    "        self.colour=colour\n",
    "        self.spots=spots\n",
    "        self.food=\"Bones\"  #No Parameter is required to pass here\n",
    "\n",
    " #################################################################\n",
    "    \n",
    "    def getDetails(self,number):\n",
    "        \"\"\"\n",
    "        This is Method of the class use to get the attributes defined using __init__ method\n",
    "        self: self referencing object\n",
    "        \"\"\"\n",
    "        print(\"Hi I am dog and my name is\",self.name,\"\\nand my colour is\",self.colour,\"\\nI eat \",self.food,\"\\nmy number is\",number)\n",
    "\n",
    "    "
   ]
  },
  {
   "cell_type": "code",
   "execution_count": 48,
   "id": "fade89a9",
   "metadata": {},
   "outputs": [],
   "source": [
    "dog=Animal(name=\"Ginger\",colour=\"Brown\",spots=False)"
   ]
  },
  {
   "cell_type": "code",
   "execution_count": 16,
   "id": "bed2967e",
   "metadata": {},
   "outputs": [
    {
     "data": {
      "text/plain": [
       "'Brown'"
      ]
     },
     "execution_count": 16,
     "metadata": {},
     "output_type": "execute_result"
    }
   ],
   "source": [
    "dog.colour"
   ]
  },
  {
   "cell_type": "code",
   "execution_count": 17,
   "id": "88b73b3b",
   "metadata": {},
   "outputs": [
    {
     "data": {
      "text/plain": [
       "'Ginger'"
      ]
     },
     "execution_count": 17,
     "metadata": {},
     "output_type": "execute_result"
    }
   ],
   "source": [
    "dog.name"
   ]
  },
  {
   "cell_type": "code",
   "execution_count": 18,
   "id": "b7d7f703",
   "metadata": {},
   "outputs": [
    {
     "data": {
      "text/plain": [
       "'mammal'"
      ]
     },
     "execution_count": 18,
     "metadata": {},
     "output_type": "execute_result"
    }
   ],
   "source": [
    "dog.species"
   ]
  },
  {
   "cell_type": "code",
   "execution_count": 21,
   "id": "04149e7e",
   "metadata": {},
   "outputs": [
    {
     "data": {
      "text/plain": [
       "'Bones'"
      ]
     },
     "execution_count": 21,
     "metadata": {},
     "output_type": "execute_result"
    }
   ],
   "source": [
    "dog.food"
   ]
  },
  {
   "cell_type": "code",
   "execution_count": 49,
   "id": "7a56c43a",
   "metadata": {},
   "outputs": [
    {
     "name": "stdout",
     "output_type": "stream",
     "text": [
      "Hi I am dog and my name is Ginger \n",
      "and my colour is Brown \n",
      "I eat  Bones \n",
      "my number is 1\n"
     ]
    }
   ],
   "source": [
    "dog.getDetails(1)"
   ]
  }
 ],
 "metadata": {
  "kernelspec": {
   "display_name": "Python 3 (ipykernel)",
   "language": "python",
   "name": "python3"
  },
  "language_info": {
   "codemirror_mode": {
    "name": "ipython",
    "version": 3
   },
   "file_extension": ".py",
   "mimetype": "text/x-python",
   "name": "python",
   "nbconvert_exporter": "python",
   "pygments_lexer": "ipython3",
   "version": "3.9.7"
  }
 },
 "nbformat": 4,
 "nbformat_minor": 5
}
